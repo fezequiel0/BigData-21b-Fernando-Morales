{
 "cells": [
  {
   "cell_type": "markdown",
   "id": "02f558c0",
   "metadata": {},
   "source": [
    "## Tarea 2\n",
    "#### Fernando Morales B85338\n",
    "#### Descripción del problema\n",
    "\n",
    "El problema a tratar es poder determinar si se puede predecir si el día próximo a cierto día va a llover o no, teniendo ciertas condiciones de los días anteriores. Se tiene la variable *RainTomorrow*, que es la que se quiere predecir si será *yes* o *no*. El enfoque que será utilizado es más como un problema de clasificación, ya que mi variable de respuesta es **categórica**, por lo que siento que este enfoque al problema puede llegar a ser más intuitivo.\n",
    "\n",
    "#### Exploración de datos\n",
    "\n",
    "Inicialmente, para explorar los datos, se hará uso de las siguientes técnicas:\n",
    "\n",
    "- Estadística descriptiva: es una técnica que plantea revisar, para las columnas que lo permitan, un resumen de 5 números: mínimo, primer cuartil, mediana, tercer cuartil y el máximo.\n",
    "- Visualización: es una técnica que permite observar diferentes comportamientos a través de material visual, sean gráficos de todo tipo, imágenes que ayuden a explicar el set de datos, entre otros.\n",
    "\n",
    "Teniendo en cuenta esto, empezaremos cargando el *dataset*, para ver la forma de los datos y el set de datos en general:"
   ]
  },
  {
   "cell_type": "code",
   "execution_count": 2,
   "id": "f940fc7e",
   "metadata": {},
   "outputs": [
    {
     "data": {
      "text/html": [
       "<div>\n",
       "<style scoped>\n",
       "    .dataframe tbody tr th:only-of-type {\n",
       "        vertical-align: middle;\n",
       "    }\n",
       "\n",
       "    .dataframe tbody tr th {\n",
       "        vertical-align: top;\n",
       "    }\n",
       "\n",
       "    .dataframe thead th {\n",
       "        text-align: right;\n",
       "    }\n",
       "</style>\n",
       "<table border=\"1\" class=\"dataframe\">\n",
       "  <thead>\n",
       "    <tr style=\"text-align: right;\">\n",
       "      <th></th>\n",
       "      <th>Date</th>\n",
       "      <th>Location</th>\n",
       "      <th>MinTemp</th>\n",
       "      <th>MaxTemp</th>\n",
       "      <th>Rainfall</th>\n",
       "      <th>Evaporation</th>\n",
       "      <th>Sunshine</th>\n",
       "      <th>WindGustDir</th>\n",
       "      <th>WindGustSpeed</th>\n",
       "      <th>WindDir9am</th>\n",
       "      <th>...</th>\n",
       "      <th>Humidity9am</th>\n",
       "      <th>Humidity3pm</th>\n",
       "      <th>Pressure9am</th>\n",
       "      <th>Pressure3pm</th>\n",
       "      <th>Cloud9am</th>\n",
       "      <th>Cloud3pm</th>\n",
       "      <th>Temp9am</th>\n",
       "      <th>Temp3pm</th>\n",
       "      <th>RainToday</th>\n",
       "      <th>RainTomorrow</th>\n",
       "    </tr>\n",
       "  </thead>\n",
       "  <tbody>\n",
       "    <tr>\n",
       "      <th>0</th>\n",
       "      <td>2008-12-01</td>\n",
       "      <td>Albury</td>\n",
       "      <td>13.4</td>\n",
       "      <td>22.9</td>\n",
       "      <td>0.6</td>\n",
       "      <td>NaN</td>\n",
       "      <td>NaN</td>\n",
       "      <td>W</td>\n",
       "      <td>44.0</td>\n",
       "      <td>W</td>\n",
       "      <td>...</td>\n",
       "      <td>71.0</td>\n",
       "      <td>22.0</td>\n",
       "      <td>1007.7</td>\n",
       "      <td>1007.1</td>\n",
       "      <td>8.0</td>\n",
       "      <td>NaN</td>\n",
       "      <td>16.9</td>\n",
       "      <td>21.8</td>\n",
       "      <td>No</td>\n",
       "      <td>No</td>\n",
       "    </tr>\n",
       "    <tr>\n",
       "      <th>1</th>\n",
       "      <td>2008-12-02</td>\n",
       "      <td>Albury</td>\n",
       "      <td>7.4</td>\n",
       "      <td>25.1</td>\n",
       "      <td>0.0</td>\n",
       "      <td>NaN</td>\n",
       "      <td>NaN</td>\n",
       "      <td>WNW</td>\n",
       "      <td>44.0</td>\n",
       "      <td>NNW</td>\n",
       "      <td>...</td>\n",
       "      <td>44.0</td>\n",
       "      <td>25.0</td>\n",
       "      <td>1010.6</td>\n",
       "      <td>1007.8</td>\n",
       "      <td>NaN</td>\n",
       "      <td>NaN</td>\n",
       "      <td>17.2</td>\n",
       "      <td>24.3</td>\n",
       "      <td>No</td>\n",
       "      <td>No</td>\n",
       "    </tr>\n",
       "    <tr>\n",
       "      <th>2</th>\n",
       "      <td>2008-12-03</td>\n",
       "      <td>Albury</td>\n",
       "      <td>12.9</td>\n",
       "      <td>25.7</td>\n",
       "      <td>0.0</td>\n",
       "      <td>NaN</td>\n",
       "      <td>NaN</td>\n",
       "      <td>WSW</td>\n",
       "      <td>46.0</td>\n",
       "      <td>W</td>\n",
       "      <td>...</td>\n",
       "      <td>38.0</td>\n",
       "      <td>30.0</td>\n",
       "      <td>1007.6</td>\n",
       "      <td>1008.7</td>\n",
       "      <td>NaN</td>\n",
       "      <td>2.0</td>\n",
       "      <td>21.0</td>\n",
       "      <td>23.2</td>\n",
       "      <td>No</td>\n",
       "      <td>No</td>\n",
       "    </tr>\n",
       "    <tr>\n",
       "      <th>3</th>\n",
       "      <td>2008-12-04</td>\n",
       "      <td>Albury</td>\n",
       "      <td>9.2</td>\n",
       "      <td>28.0</td>\n",
       "      <td>0.0</td>\n",
       "      <td>NaN</td>\n",
       "      <td>NaN</td>\n",
       "      <td>NE</td>\n",
       "      <td>24.0</td>\n",
       "      <td>SE</td>\n",
       "      <td>...</td>\n",
       "      <td>45.0</td>\n",
       "      <td>16.0</td>\n",
       "      <td>1017.6</td>\n",
       "      <td>1012.8</td>\n",
       "      <td>NaN</td>\n",
       "      <td>NaN</td>\n",
       "      <td>18.1</td>\n",
       "      <td>26.5</td>\n",
       "      <td>No</td>\n",
       "      <td>No</td>\n",
       "    </tr>\n",
       "    <tr>\n",
       "      <th>4</th>\n",
       "      <td>2008-12-05</td>\n",
       "      <td>Albury</td>\n",
       "      <td>17.5</td>\n",
       "      <td>32.3</td>\n",
       "      <td>1.0</td>\n",
       "      <td>NaN</td>\n",
       "      <td>NaN</td>\n",
       "      <td>W</td>\n",
       "      <td>41.0</td>\n",
       "      <td>ENE</td>\n",
       "      <td>...</td>\n",
       "      <td>82.0</td>\n",
       "      <td>33.0</td>\n",
       "      <td>1010.8</td>\n",
       "      <td>1006.0</td>\n",
       "      <td>7.0</td>\n",
       "      <td>8.0</td>\n",
       "      <td>17.8</td>\n",
       "      <td>29.7</td>\n",
       "      <td>No</td>\n",
       "      <td>No</td>\n",
       "    </tr>\n",
       "    <tr>\n",
       "      <th>...</th>\n",
       "      <td>...</td>\n",
       "      <td>...</td>\n",
       "      <td>...</td>\n",
       "      <td>...</td>\n",
       "      <td>...</td>\n",
       "      <td>...</td>\n",
       "      <td>...</td>\n",
       "      <td>...</td>\n",
       "      <td>...</td>\n",
       "      <td>...</td>\n",
       "      <td>...</td>\n",
       "      <td>...</td>\n",
       "      <td>...</td>\n",
       "      <td>...</td>\n",
       "      <td>...</td>\n",
       "      <td>...</td>\n",
       "      <td>...</td>\n",
       "      <td>...</td>\n",
       "      <td>...</td>\n",
       "      <td>...</td>\n",
       "      <td>...</td>\n",
       "    </tr>\n",
       "    <tr>\n",
       "      <th>145455</th>\n",
       "      <td>2017-06-21</td>\n",
       "      <td>Uluru</td>\n",
       "      <td>2.8</td>\n",
       "      <td>23.4</td>\n",
       "      <td>0.0</td>\n",
       "      <td>NaN</td>\n",
       "      <td>NaN</td>\n",
       "      <td>E</td>\n",
       "      <td>31.0</td>\n",
       "      <td>SE</td>\n",
       "      <td>...</td>\n",
       "      <td>51.0</td>\n",
       "      <td>24.0</td>\n",
       "      <td>1024.6</td>\n",
       "      <td>1020.3</td>\n",
       "      <td>NaN</td>\n",
       "      <td>NaN</td>\n",
       "      <td>10.1</td>\n",
       "      <td>22.4</td>\n",
       "      <td>No</td>\n",
       "      <td>No</td>\n",
       "    </tr>\n",
       "    <tr>\n",
       "      <th>145456</th>\n",
       "      <td>2017-06-22</td>\n",
       "      <td>Uluru</td>\n",
       "      <td>3.6</td>\n",
       "      <td>25.3</td>\n",
       "      <td>0.0</td>\n",
       "      <td>NaN</td>\n",
       "      <td>NaN</td>\n",
       "      <td>NNW</td>\n",
       "      <td>22.0</td>\n",
       "      <td>SE</td>\n",
       "      <td>...</td>\n",
       "      <td>56.0</td>\n",
       "      <td>21.0</td>\n",
       "      <td>1023.5</td>\n",
       "      <td>1019.1</td>\n",
       "      <td>NaN</td>\n",
       "      <td>NaN</td>\n",
       "      <td>10.9</td>\n",
       "      <td>24.5</td>\n",
       "      <td>No</td>\n",
       "      <td>No</td>\n",
       "    </tr>\n",
       "    <tr>\n",
       "      <th>145457</th>\n",
       "      <td>2017-06-23</td>\n",
       "      <td>Uluru</td>\n",
       "      <td>5.4</td>\n",
       "      <td>26.9</td>\n",
       "      <td>0.0</td>\n",
       "      <td>NaN</td>\n",
       "      <td>NaN</td>\n",
       "      <td>N</td>\n",
       "      <td>37.0</td>\n",
       "      <td>SE</td>\n",
       "      <td>...</td>\n",
       "      <td>53.0</td>\n",
       "      <td>24.0</td>\n",
       "      <td>1021.0</td>\n",
       "      <td>1016.8</td>\n",
       "      <td>NaN</td>\n",
       "      <td>NaN</td>\n",
       "      <td>12.5</td>\n",
       "      <td>26.1</td>\n",
       "      <td>No</td>\n",
       "      <td>No</td>\n",
       "    </tr>\n",
       "    <tr>\n",
       "      <th>145458</th>\n",
       "      <td>2017-06-24</td>\n",
       "      <td>Uluru</td>\n",
       "      <td>7.8</td>\n",
       "      <td>27.0</td>\n",
       "      <td>0.0</td>\n",
       "      <td>NaN</td>\n",
       "      <td>NaN</td>\n",
       "      <td>SE</td>\n",
       "      <td>28.0</td>\n",
       "      <td>SSE</td>\n",
       "      <td>...</td>\n",
       "      <td>51.0</td>\n",
       "      <td>24.0</td>\n",
       "      <td>1019.4</td>\n",
       "      <td>1016.5</td>\n",
       "      <td>3.0</td>\n",
       "      <td>2.0</td>\n",
       "      <td>15.1</td>\n",
       "      <td>26.0</td>\n",
       "      <td>No</td>\n",
       "      <td>No</td>\n",
       "    </tr>\n",
       "    <tr>\n",
       "      <th>145459</th>\n",
       "      <td>2017-06-25</td>\n",
       "      <td>Uluru</td>\n",
       "      <td>14.9</td>\n",
       "      <td>NaN</td>\n",
       "      <td>0.0</td>\n",
       "      <td>NaN</td>\n",
       "      <td>NaN</td>\n",
       "      <td>NaN</td>\n",
       "      <td>NaN</td>\n",
       "      <td>ESE</td>\n",
       "      <td>...</td>\n",
       "      <td>62.0</td>\n",
       "      <td>36.0</td>\n",
       "      <td>1020.2</td>\n",
       "      <td>1017.9</td>\n",
       "      <td>8.0</td>\n",
       "      <td>8.0</td>\n",
       "      <td>15.0</td>\n",
       "      <td>20.9</td>\n",
       "      <td>No</td>\n",
       "      <td>NaN</td>\n",
       "    </tr>\n",
       "  </tbody>\n",
       "</table>\n",
       "<p>145460 rows × 23 columns</p>\n",
       "</div>"
      ],
      "text/plain": [
       "              Date Location  MinTemp  MaxTemp  Rainfall  Evaporation  \\\n",
       "0       2008-12-01   Albury     13.4     22.9       0.6          NaN   \n",
       "1       2008-12-02   Albury      7.4     25.1       0.0          NaN   \n",
       "2       2008-12-03   Albury     12.9     25.7       0.0          NaN   \n",
       "3       2008-12-04   Albury      9.2     28.0       0.0          NaN   \n",
       "4       2008-12-05   Albury     17.5     32.3       1.0          NaN   \n",
       "...            ...      ...      ...      ...       ...          ...   \n",
       "145455  2017-06-21    Uluru      2.8     23.4       0.0          NaN   \n",
       "145456  2017-06-22    Uluru      3.6     25.3       0.0          NaN   \n",
       "145457  2017-06-23    Uluru      5.4     26.9       0.0          NaN   \n",
       "145458  2017-06-24    Uluru      7.8     27.0       0.0          NaN   \n",
       "145459  2017-06-25    Uluru     14.9      NaN       0.0          NaN   \n",
       "\n",
       "        Sunshine WindGustDir  WindGustSpeed WindDir9am  ... Humidity9am  \\\n",
       "0            NaN           W           44.0          W  ...        71.0   \n",
       "1            NaN         WNW           44.0        NNW  ...        44.0   \n",
       "2            NaN         WSW           46.0          W  ...        38.0   \n",
       "3            NaN          NE           24.0         SE  ...        45.0   \n",
       "4            NaN           W           41.0        ENE  ...        82.0   \n",
       "...          ...         ...            ...        ...  ...         ...   \n",
       "145455       NaN           E           31.0         SE  ...        51.0   \n",
       "145456       NaN         NNW           22.0         SE  ...        56.0   \n",
       "145457       NaN           N           37.0         SE  ...        53.0   \n",
       "145458       NaN          SE           28.0        SSE  ...        51.0   \n",
       "145459       NaN         NaN            NaN        ESE  ...        62.0   \n",
       "\n",
       "        Humidity3pm  Pressure9am  Pressure3pm  Cloud9am  Cloud3pm  Temp9am  \\\n",
       "0              22.0       1007.7       1007.1       8.0       NaN     16.9   \n",
       "1              25.0       1010.6       1007.8       NaN       NaN     17.2   \n",
       "2              30.0       1007.6       1008.7       NaN       2.0     21.0   \n",
       "3              16.0       1017.6       1012.8       NaN       NaN     18.1   \n",
       "4              33.0       1010.8       1006.0       7.0       8.0     17.8   \n",
       "...             ...          ...          ...       ...       ...      ...   \n",
       "145455         24.0       1024.6       1020.3       NaN       NaN     10.1   \n",
       "145456         21.0       1023.5       1019.1       NaN       NaN     10.9   \n",
       "145457         24.0       1021.0       1016.8       NaN       NaN     12.5   \n",
       "145458         24.0       1019.4       1016.5       3.0       2.0     15.1   \n",
       "145459         36.0       1020.2       1017.9       8.0       8.0     15.0   \n",
       "\n",
       "        Temp3pm  RainToday  RainTomorrow  \n",
       "0          21.8         No            No  \n",
       "1          24.3         No            No  \n",
       "2          23.2         No            No  \n",
       "3          26.5         No            No  \n",
       "4          29.7         No            No  \n",
       "...         ...        ...           ...  \n",
       "145455     22.4         No            No  \n",
       "145456     24.5         No            No  \n",
       "145457     26.1         No            No  \n",
       "145458     26.0         No            No  \n",
       "145459     20.9         No           NaN  \n",
       "\n",
       "[145460 rows x 23 columns]"
      ]
     },
     "execution_count": 2,
     "metadata": {},
     "output_type": "execute_result"
    }
   ],
   "source": [
    "import numpy as np \n",
    "import pandas as pd\n",
    "import matplotlib.pyplot as plt\n",
    "import seaborn as sns\n",
    "%matplotlib inline\n",
    "\n",
    "# cargar data original\n",
    "csv_path = './weatherAUS.csv'\n",
    "\n",
    "df = pd.read_csv(csv_path)\n",
    "\n",
    "df"
   ]
  },
  {
   "cell_type": "code",
   "execution_count": 5,
   "id": "77601813",
   "metadata": {
    "scrolled": true
   },
   "outputs": [
    {
     "data": {
      "text/html": [
       "<div>\n",
       "<style scoped>\n",
       "    .dataframe tbody tr th:only-of-type {\n",
       "        vertical-align: middle;\n",
       "    }\n",
       "\n",
       "    .dataframe tbody tr th {\n",
       "        vertical-align: top;\n",
       "    }\n",
       "\n",
       "    .dataframe thead th {\n",
       "        text-align: right;\n",
       "    }\n",
       "</style>\n",
       "<table border=\"1\" class=\"dataframe\">\n",
       "  <thead>\n",
       "    <tr style=\"text-align: right;\">\n",
       "      <th></th>\n",
       "      <th>MinTemp</th>\n",
       "      <th>MaxTemp</th>\n",
       "      <th>Rainfall</th>\n",
       "      <th>Evaporation</th>\n",
       "      <th>Sunshine</th>\n",
       "      <th>WindGustSpeed</th>\n",
       "      <th>WindSpeed9am</th>\n",
       "      <th>WindSpeed3pm</th>\n",
       "      <th>Humidity9am</th>\n",
       "      <th>Humidity3pm</th>\n",
       "      <th>Pressure9am</th>\n",
       "      <th>Pressure3pm</th>\n",
       "      <th>Cloud9am</th>\n",
       "      <th>Cloud3pm</th>\n",
       "      <th>Temp9am</th>\n",
       "      <th>Temp3pm</th>\n",
       "    </tr>\n",
       "  </thead>\n",
       "  <tbody>\n",
       "    <tr>\n",
       "      <th>count</th>\n",
       "      <td>143975.000000</td>\n",
       "      <td>144199.000000</td>\n",
       "      <td>142199.000000</td>\n",
       "      <td>82670.000000</td>\n",
       "      <td>75625.000000</td>\n",
       "      <td>135197.000000</td>\n",
       "      <td>143693.000000</td>\n",
       "      <td>142398.000000</td>\n",
       "      <td>142806.000000</td>\n",
       "      <td>140953.000000</td>\n",
       "      <td>130395.00000</td>\n",
       "      <td>130432.000000</td>\n",
       "      <td>89572.000000</td>\n",
       "      <td>86102.000000</td>\n",
       "      <td>143693.000000</td>\n",
       "      <td>141851.00000</td>\n",
       "    </tr>\n",
       "    <tr>\n",
       "      <th>mean</th>\n",
       "      <td>12.194034</td>\n",
       "      <td>23.221348</td>\n",
       "      <td>2.360918</td>\n",
       "      <td>5.468232</td>\n",
       "      <td>7.611178</td>\n",
       "      <td>40.035230</td>\n",
       "      <td>14.043426</td>\n",
       "      <td>18.662657</td>\n",
       "      <td>68.880831</td>\n",
       "      <td>51.539116</td>\n",
       "      <td>1017.64994</td>\n",
       "      <td>1015.255889</td>\n",
       "      <td>4.447461</td>\n",
       "      <td>4.509930</td>\n",
       "      <td>16.990631</td>\n",
       "      <td>21.68339</td>\n",
       "    </tr>\n",
       "    <tr>\n",
       "      <th>std</th>\n",
       "      <td>6.398495</td>\n",
       "      <td>7.119049</td>\n",
       "      <td>8.478060</td>\n",
       "      <td>4.193704</td>\n",
       "      <td>3.785483</td>\n",
       "      <td>13.607062</td>\n",
       "      <td>8.915375</td>\n",
       "      <td>8.809800</td>\n",
       "      <td>19.029164</td>\n",
       "      <td>20.795902</td>\n",
       "      <td>7.10653</td>\n",
       "      <td>7.037414</td>\n",
       "      <td>2.887159</td>\n",
       "      <td>2.720357</td>\n",
       "      <td>6.488753</td>\n",
       "      <td>6.93665</td>\n",
       "    </tr>\n",
       "    <tr>\n",
       "      <th>min</th>\n",
       "      <td>-8.500000</td>\n",
       "      <td>-4.800000</td>\n",
       "      <td>0.000000</td>\n",
       "      <td>0.000000</td>\n",
       "      <td>0.000000</td>\n",
       "      <td>6.000000</td>\n",
       "      <td>0.000000</td>\n",
       "      <td>0.000000</td>\n",
       "      <td>0.000000</td>\n",
       "      <td>0.000000</td>\n",
       "      <td>980.50000</td>\n",
       "      <td>977.100000</td>\n",
       "      <td>0.000000</td>\n",
       "      <td>0.000000</td>\n",
       "      <td>-7.200000</td>\n",
       "      <td>-5.40000</td>\n",
       "    </tr>\n",
       "    <tr>\n",
       "      <th>25%</th>\n",
       "      <td>7.600000</td>\n",
       "      <td>17.900000</td>\n",
       "      <td>0.000000</td>\n",
       "      <td>2.600000</td>\n",
       "      <td>4.800000</td>\n",
       "      <td>31.000000</td>\n",
       "      <td>7.000000</td>\n",
       "      <td>13.000000</td>\n",
       "      <td>57.000000</td>\n",
       "      <td>37.000000</td>\n",
       "      <td>1012.90000</td>\n",
       "      <td>1010.400000</td>\n",
       "      <td>1.000000</td>\n",
       "      <td>2.000000</td>\n",
       "      <td>12.300000</td>\n",
       "      <td>16.60000</td>\n",
       "    </tr>\n",
       "    <tr>\n",
       "      <th>50%</th>\n",
       "      <td>12.000000</td>\n",
       "      <td>22.600000</td>\n",
       "      <td>0.000000</td>\n",
       "      <td>4.800000</td>\n",
       "      <td>8.400000</td>\n",
       "      <td>39.000000</td>\n",
       "      <td>13.000000</td>\n",
       "      <td>19.000000</td>\n",
       "      <td>70.000000</td>\n",
       "      <td>52.000000</td>\n",
       "      <td>1017.60000</td>\n",
       "      <td>1015.200000</td>\n",
       "      <td>5.000000</td>\n",
       "      <td>5.000000</td>\n",
       "      <td>16.700000</td>\n",
       "      <td>21.10000</td>\n",
       "    </tr>\n",
       "    <tr>\n",
       "      <th>75%</th>\n",
       "      <td>16.900000</td>\n",
       "      <td>28.200000</td>\n",
       "      <td>0.800000</td>\n",
       "      <td>7.400000</td>\n",
       "      <td>10.600000</td>\n",
       "      <td>48.000000</td>\n",
       "      <td>19.000000</td>\n",
       "      <td>24.000000</td>\n",
       "      <td>83.000000</td>\n",
       "      <td>66.000000</td>\n",
       "      <td>1022.40000</td>\n",
       "      <td>1020.000000</td>\n",
       "      <td>7.000000</td>\n",
       "      <td>7.000000</td>\n",
       "      <td>21.600000</td>\n",
       "      <td>26.40000</td>\n",
       "    </tr>\n",
       "    <tr>\n",
       "      <th>max</th>\n",
       "      <td>33.900000</td>\n",
       "      <td>48.100000</td>\n",
       "      <td>371.000000</td>\n",
       "      <td>145.000000</td>\n",
       "      <td>14.500000</td>\n",
       "      <td>135.000000</td>\n",
       "      <td>130.000000</td>\n",
       "      <td>87.000000</td>\n",
       "      <td>100.000000</td>\n",
       "      <td>100.000000</td>\n",
       "      <td>1041.00000</td>\n",
       "      <td>1039.600000</td>\n",
       "      <td>9.000000</td>\n",
       "      <td>9.000000</td>\n",
       "      <td>40.200000</td>\n",
       "      <td>46.70000</td>\n",
       "    </tr>\n",
       "  </tbody>\n",
       "</table>\n",
       "</div>"
      ],
      "text/plain": [
       "             MinTemp        MaxTemp       Rainfall   Evaporation  \\\n",
       "count  143975.000000  144199.000000  142199.000000  82670.000000   \n",
       "mean       12.194034      23.221348       2.360918      5.468232   \n",
       "std         6.398495       7.119049       8.478060      4.193704   \n",
       "min        -8.500000      -4.800000       0.000000      0.000000   \n",
       "25%         7.600000      17.900000       0.000000      2.600000   \n",
       "50%        12.000000      22.600000       0.000000      4.800000   \n",
       "75%        16.900000      28.200000       0.800000      7.400000   \n",
       "max        33.900000      48.100000     371.000000    145.000000   \n",
       "\n",
       "           Sunshine  WindGustSpeed   WindSpeed9am   WindSpeed3pm  \\\n",
       "count  75625.000000  135197.000000  143693.000000  142398.000000   \n",
       "mean       7.611178      40.035230      14.043426      18.662657   \n",
       "std        3.785483      13.607062       8.915375       8.809800   \n",
       "min        0.000000       6.000000       0.000000       0.000000   \n",
       "25%        4.800000      31.000000       7.000000      13.000000   \n",
       "50%        8.400000      39.000000      13.000000      19.000000   \n",
       "75%       10.600000      48.000000      19.000000      24.000000   \n",
       "max       14.500000     135.000000     130.000000      87.000000   \n",
       "\n",
       "         Humidity9am    Humidity3pm   Pressure9am    Pressure3pm  \\\n",
       "count  142806.000000  140953.000000  130395.00000  130432.000000   \n",
       "mean       68.880831      51.539116    1017.64994    1015.255889   \n",
       "std        19.029164      20.795902       7.10653       7.037414   \n",
       "min         0.000000       0.000000     980.50000     977.100000   \n",
       "25%        57.000000      37.000000    1012.90000    1010.400000   \n",
       "50%        70.000000      52.000000    1017.60000    1015.200000   \n",
       "75%        83.000000      66.000000    1022.40000    1020.000000   \n",
       "max       100.000000     100.000000    1041.00000    1039.600000   \n",
       "\n",
       "           Cloud9am      Cloud3pm        Temp9am       Temp3pm  \n",
       "count  89572.000000  86102.000000  143693.000000  141851.00000  \n",
       "mean       4.447461      4.509930      16.990631      21.68339  \n",
       "std        2.887159      2.720357       6.488753       6.93665  \n",
       "min        0.000000      0.000000      -7.200000      -5.40000  \n",
       "25%        1.000000      2.000000      12.300000      16.60000  \n",
       "50%        5.000000      5.000000      16.700000      21.10000  \n",
       "75%        7.000000      7.000000      21.600000      26.40000  \n",
       "max        9.000000      9.000000      40.200000      46.70000  "
      ]
     },
     "execution_count": 5,
     "metadata": {},
     "output_type": "execute_result"
    }
   ],
   "source": [
    "df.describe()"
   ]
  },
  {
   "cell_type": "markdown",
   "id": "529e0aa5",
   "metadata": {},
   "source": [
    "Podemos observar como, en ambas ejecuciones, existen datos vacíos que pueden resultar ser no deseados para esta investigación. Al mismo tiempo, en la primer tabla, podemos ver que existen 6 variables categóricas:\n",
    "\n",
    "1. Location\n",
    "2. WindGustDir\n",
    "3. WindDir9am\n",
    "4. WindDir9pm\n",
    "5. RainToday\n",
    "6. RainTomorrow\n",
    "\n",
    "Mientras que todas las demás son numéricas, aunque varían bastante en sus rangos. Se puede observar como existe la posibilidad de que haya gran cantidad de *outliers* en las variables numéricas, ya que la distancia entre los máximos y mínimos y el rango intercuartil puede ser mucha, sobre todo para las siguientes variables:\n",
    "\n",
    "1. Rainfall\n",
    "2. Evaporation\n",
    "3. WindSpeed9am\n",
    "4. WindSpeed3pm\n",
    "\n",
    "Para verificar esto, vamos a visualizar las variables usando *boxplots*, ya que nos permiten observar fácilmente la cantidad de *outliers*:"
   ]
  },
  {
   "cell_type": "code",
   "execution_count": 14,
   "id": "f7f94d50",
   "metadata": {
    "scrolled": false
   },
   "outputs": [
    {
     "data": {
      "image/png": "[encoded data removed]",
      "text/plain": [
       "<Figure size 1080x720 with 4 Axes>"
      ]
     },
     "metadata": {
      "needs_background": "light"
     },
     "output_type": "display_data"
    }
   ],
   "source": [
    "plt.figure(figsize=(15,10))\n",
    "\n",
    "def draw_boxplot(column_name, position):\n",
    "    plt.subplot(2,2,position)\n",
    "    fig = df.boxplot(column=column_name)\n",
    "    fig.set_ylabel(column_name)\n",
    "\n",
    "draw_boxplot('Rainfall',1)\n",
    "draw_boxplot('Evaporation',2)\n",
    "draw_boxplot('WindSpeed9am',3)\n",
    "draw_boxplot('WindSpeed3pm',4)\n"
   ]
  },
  {
   "cell_type": "markdown",
   "id": "65e41f67",
   "metadata": {},
   "source": [
    "Teniendo esto en cuenta, a la hora de limpiar y transformar los datos, tendremos que usar la regla de 1.5IQR para remover esta gran cantidad de *outliers*. Finalmente, es muy útil poder observar las diferentes correlaciones en el set de datos, para así poder entender cómo interactuan las diferentes columnas entre sí."
   ]
  },
  {
   "cell_type": "code",
   "execution_count": 16,
   "id": "bba37d59",
   "metadata": {
    "scrolled": false
   },
   "outputs": [
    {
     "data": {
      "text/html": [
       "<div>\n",
       "<style scoped>\n",
       "    .dataframe tbody tr th:only-of-type {\n",
       "        vertical-align: middle;\n",
       "    }\n",
       "\n",
       "    .dataframe tbody tr th {\n",
       "        vertical-align: top;\n",
       "    }\n",
       "\n",
       "    .dataframe thead th {\n",
       "        text-align: right;\n",
       "    }\n",
       "</style>\n",
       "<table border=\"1\" class=\"dataframe\">\n",
       "  <thead>\n",
       "    <tr style=\"text-align: right;\">\n",
       "      <th></th>\n",
       "      <th>MinTemp</th>\n",
       "      <th>MaxTemp</th>\n",
       "      <th>Rainfall</th>\n",
       "      <th>Evaporation</th>\n",
       "      <th>Sunshine</th>\n",
       "      <th>WindGustSpeed</th>\n",
       "      <th>WindSpeed9am</th>\n",
       "      <th>WindSpeed3pm</th>\n",
       "      <th>Humidity9am</th>\n",
       "      <th>Humidity3pm</th>\n",
       "      <th>Pressure9am</th>\n",
       "      <th>Pressure3pm</th>\n",
       "      <th>Cloud9am</th>\n",
       "      <th>Cloud3pm</th>\n",
       "      <th>Temp9am</th>\n",
       "      <th>Temp3pm</th>\n",
       "    </tr>\n",
       "  </thead>\n",
       "  <tbody>\n",
       "    <tr>\n",
       "      <th>MinTemp</th>\n",
       "      <td>1.000000</td>\n",
       "      <td>0.736555</td>\n",
       "      <td>0.103938</td>\n",
       "      <td>0.466993</td>\n",
       "      <td>0.072586</td>\n",
       "      <td>0.177415</td>\n",
       "      <td>0.175064</td>\n",
       "      <td>0.175173</td>\n",
       "      <td>-0.232899</td>\n",
       "      <td>0.006089</td>\n",
       "      <td>-0.450970</td>\n",
       "      <td>-0.461292</td>\n",
       "      <td>0.078754</td>\n",
       "      <td>0.021605</td>\n",
       "      <td>0.901821</td>\n",
       "      <td>0.708906</td>\n",
       "    </tr>\n",
       "    <tr>\n",
       "      <th>MaxTemp</th>\n",
       "      <td>0.736555</td>\n",
       "      <td>1.000000</td>\n",
       "      <td>-0.074992</td>\n",
       "      <td>0.587932</td>\n",
       "      <td>0.470156</td>\n",
       "      <td>0.067615</td>\n",
       "      <td>0.014450</td>\n",
       "      <td>0.050300</td>\n",
       "      <td>-0.504110</td>\n",
       "      <td>-0.508855</td>\n",
       "      <td>-0.332061</td>\n",
       "      <td>-0.427167</td>\n",
       "      <td>-0.289370</td>\n",
       "      <td>-0.277921</td>\n",
       "      <td>0.887210</td>\n",
       "      <td>0.984503</td>\n",
       "    </tr>\n",
       "    <tr>\n",
       "      <th>Rainfall</th>\n",
       "      <td>0.103938</td>\n",
       "      <td>-0.074992</td>\n",
       "      <td>1.000000</td>\n",
       "      <td>-0.064351</td>\n",
       "      <td>-0.227549</td>\n",
       "      <td>0.133659</td>\n",
       "      <td>0.087338</td>\n",
       "      <td>0.057887</td>\n",
       "      <td>0.224405</td>\n",
       "      <td>0.255755</td>\n",
       "      <td>-0.168154</td>\n",
       "      <td>-0.126534</td>\n",
       "      <td>0.198528</td>\n",
       "      <td>0.172403</td>\n",
       "      <td>0.011192</td>\n",
       "      <td>-0.079657</td>\n",
       "    </tr>\n",
       "    <tr>\n",
       "      <th>Evaporation</th>\n",
       "      <td>0.466993</td>\n",
       "      <td>0.587932</td>\n",
       "      <td>-0.064351</td>\n",
       "      <td>1.000000</td>\n",
       "      <td>0.365602</td>\n",
       "      <td>0.203021</td>\n",
       "      <td>0.193084</td>\n",
       "      <td>0.129400</td>\n",
       "      <td>-0.504092</td>\n",
       "      <td>-0.390243</td>\n",
       "      <td>-0.270362</td>\n",
       "      <td>-0.293581</td>\n",
       "      <td>-0.183793</td>\n",
       "      <td>-0.182618</td>\n",
       "      <td>0.545115</td>\n",
       "      <td>0.572893</td>\n",
       "    </tr>\n",
       "    <tr>\n",
       "      <th>Sunshine</th>\n",
       "      <td>0.072586</td>\n",
       "      <td>0.470156</td>\n",
       "      <td>-0.227549</td>\n",
       "      <td>0.365602</td>\n",
       "      <td>1.000000</td>\n",
       "      <td>-0.034750</td>\n",
       "      <td>0.005499</td>\n",
       "      <td>0.053834</td>\n",
       "      <td>-0.490819</td>\n",
       "      <td>-0.629130</td>\n",
       "      <td>0.041970</td>\n",
       "      <td>-0.019719</td>\n",
       "      <td>-0.675323</td>\n",
       "      <td>-0.703930</td>\n",
       "      <td>0.291188</td>\n",
       "      <td>0.490501</td>\n",
       "    </tr>\n",
       "    <tr>\n",
       "      <th>WindGustSpeed</th>\n",
       "      <td>0.177415</td>\n",
       "      <td>0.067615</td>\n",
       "      <td>0.133659</td>\n",
       "      <td>0.203021</td>\n",
       "      <td>-0.034750</td>\n",
       "      <td>1.000000</td>\n",
       "      <td>0.605303</td>\n",
       "      <td>0.686307</td>\n",
       "      <td>-0.215070</td>\n",
       "      <td>-0.026327</td>\n",
       "      <td>-0.458744</td>\n",
       "      <td>-0.413749</td>\n",
       "      <td>0.071736</td>\n",
       "      <td>0.109168</td>\n",
       "      <td>0.150150</td>\n",
       "      <td>0.032748</td>\n",
       "    </tr>\n",
       "    <tr>\n",
       "      <th>WindSpeed9am</th>\n",
       "      <td>0.175064</td>\n",
       "      <td>0.014450</td>\n",
       "      <td>0.087338</td>\n",
       "      <td>0.193084</td>\n",
       "      <td>0.005499</td>\n",
       "      <td>0.605303</td>\n",
       "      <td>1.000000</td>\n",
       "      <td>0.519547</td>\n",
       "      <td>-0.270858</td>\n",
       "      <td>-0.031614</td>\n",
       "      <td>-0.228743</td>\n",
       "      <td>-0.175817</td>\n",
       "      <td>0.025112</td>\n",
       "      <td>0.054639</td>\n",
       "      <td>0.128545</td>\n",
       "      <td>0.004569</td>\n",
       "    </tr>\n",
       "    <tr>\n",
       "      <th>WindSpeed3pm</th>\n",
       "      <td>0.175173</td>\n",
       "      <td>0.050300</td>\n",
       "      <td>0.057887</td>\n",
       "      <td>0.129400</td>\n",
       "      <td>0.053834</td>\n",
       "      <td>0.686307</td>\n",
       "      <td>0.519547</td>\n",
       "      <td>1.000000</td>\n",
       "      <td>-0.145525</td>\n",
       "      <td>0.016432</td>\n",
       "      <td>-0.296351</td>\n",
       "      <td>-0.255439</td>\n",
       "      <td>0.053337</td>\n",
       "      <td>0.025396</td>\n",
       "      <td>0.163030</td>\n",
       "      <td>0.027778</td>\n",
       "    </tr>\n",
       "    <tr>\n",
       "      <th>Humidity9am</th>\n",
       "      <td>-0.232899</td>\n",
       "      <td>-0.504110</td>\n",
       "      <td>0.224405</td>\n",
       "      <td>-0.504092</td>\n",
       "      <td>-0.490819</td>\n",
       "      <td>-0.215070</td>\n",
       "      <td>-0.270858</td>\n",
       "      <td>-0.145525</td>\n",
       "      <td>1.000000</td>\n",
       "      <td>0.666949</td>\n",
       "      <td>0.139442</td>\n",
       "      <td>0.186858</td>\n",
       "      <td>0.452297</td>\n",
       "      <td>0.357326</td>\n",
       "      <td>-0.471354</td>\n",
       "      <td>-0.498399</td>\n",
       "    </tr>\n",
       "    <tr>\n",
       "      <th>Humidity3pm</th>\n",
       "      <td>0.006089</td>\n",
       "      <td>-0.508855</td>\n",
       "      <td>0.255755</td>\n",
       "      <td>-0.390243</td>\n",
       "      <td>-0.629130</td>\n",
       "      <td>-0.026327</td>\n",
       "      <td>-0.031614</td>\n",
       "      <td>0.016432</td>\n",
       "      <td>0.666949</td>\n",
       "      <td>1.000000</td>\n",
       "      <td>-0.027544</td>\n",
       "      <td>0.051997</td>\n",
       "      <td>0.517120</td>\n",
       "      <td>0.523120</td>\n",
       "      <td>-0.221019</td>\n",
       "      <td>-0.557841</td>\n",
       "    </tr>\n",
       "    <tr>\n",
       "      <th>Pressure9am</th>\n",
       "      <td>-0.450970</td>\n",
       "      <td>-0.332061</td>\n",
       "      <td>-0.168154</td>\n",
       "      <td>-0.270362</td>\n",
       "      <td>0.041970</td>\n",
       "      <td>-0.458744</td>\n",
       "      <td>-0.228743</td>\n",
       "      <td>-0.296351</td>\n",
       "      <td>0.139442</td>\n",
       "      <td>-0.027544</td>\n",
       "      <td>1.000000</td>\n",
       "      <td>0.961326</td>\n",
       "      <td>-0.129796</td>\n",
       "      <td>-0.147861</td>\n",
       "      <td>-0.422556</td>\n",
       "      <td>-0.286770</td>\n",
       "    </tr>\n",
       "    <tr>\n",
       "      <th>Pressure3pm</th>\n",
       "      <td>-0.461292</td>\n",
       "      <td>-0.427167</td>\n",
       "      <td>-0.126534</td>\n",
       "      <td>-0.293581</td>\n",
       "      <td>-0.019719</td>\n",
       "      <td>-0.413749</td>\n",
       "      <td>-0.175817</td>\n",
       "      <td>-0.255439</td>\n",
       "      <td>0.186858</td>\n",
       "      <td>0.051997</td>\n",
       "      <td>0.961326</td>\n",
       "      <td>1.000000</td>\n",
       "      <td>-0.060772</td>\n",
       "      <td>-0.084778</td>\n",
       "      <td>-0.470187</td>\n",
       "      <td>-0.389548</td>\n",
       "    </tr>\n",
       "    <tr>\n",
       "      <th>Cloud9am</th>\n",
       "      <td>0.078754</td>\n",
       "      <td>-0.289370</td>\n",
       "      <td>0.198528</td>\n",
       "      <td>-0.183793</td>\n",
       "      <td>-0.675323</td>\n",
       "      <td>0.071736</td>\n",
       "      <td>0.025112</td>\n",
       "      <td>0.053337</td>\n",
       "      <td>0.452297</td>\n",
       "      <td>0.517120</td>\n",
       "      <td>-0.129796</td>\n",
       "      <td>-0.060772</td>\n",
       "      <td>1.000000</td>\n",
       "      <td>0.603564</td>\n",
       "      <td>-0.136959</td>\n",
       "      <td>-0.302060</td>\n",
       "    </tr>\n",
       "    <tr>\n",
       "      <th>Cloud3pm</th>\n",
       "      <td>0.021605</td>\n",
       "      <td>-0.277921</td>\n",
       "      <td>0.172403</td>\n",
       "      <td>-0.182618</td>\n",
       "      <td>-0.703930</td>\n",
       "      <td>0.109168</td>\n",
       "      <td>0.054639</td>\n",
       "      <td>0.025396</td>\n",
       "      <td>0.357326</td>\n",
       "      <td>0.523120</td>\n",
       "      <td>-0.147861</td>\n",
       "      <td>-0.084778</td>\n",
       "      <td>0.603564</td>\n",
       "      <td>1.000000</td>\n",
       "      <td>-0.126659</td>\n",
       "      <td>-0.317420</td>\n",
       "    </tr>\n",
       "    <tr>\n",
       "      <th>Temp9am</th>\n",
       "      <td>0.901821</td>\n",
       "      <td>0.887210</td>\n",
       "      <td>0.011192</td>\n",
       "      <td>0.545115</td>\n",
       "      <td>0.291188</td>\n",
       "      <td>0.150150</td>\n",
       "      <td>0.128545</td>\n",
       "      <td>0.163030</td>\n",
       "      <td>-0.471354</td>\n",
       "      <td>-0.221019</td>\n",
       "      <td>-0.422556</td>\n",
       "      <td>-0.470187</td>\n",
       "      <td>-0.136959</td>\n",
       "      <td>-0.126659</td>\n",
       "      <td>1.000000</td>\n",
       "      <td>0.860591</td>\n",
       "    </tr>\n",
       "    <tr>\n",
       "      <th>Temp3pm</th>\n",
       "      <td>0.708906</td>\n",
       "      <td>0.984503</td>\n",
       "      <td>-0.079657</td>\n",
       "      <td>0.572893</td>\n",
       "      <td>0.490501</td>\n",
       "      <td>0.032748</td>\n",
       "      <td>0.004569</td>\n",
       "      <td>0.027778</td>\n",
       "      <td>-0.498399</td>\n",
       "      <td>-0.557841</td>\n",
       "      <td>-0.286770</td>\n",
       "      <td>-0.389548</td>\n",
       "      <td>-0.302060</td>\n",
       "      <td>-0.317420</td>\n",
       "      <td>0.860591</td>\n",
       "      <td>1.000000</td>\n",
       "    </tr>\n",
       "  </tbody>\n",
       "</table>\n",
       "</div>"
      ],
      "text/plain": [
       "                MinTemp   MaxTemp  Rainfall  Evaporation  Sunshine  \\\n",
       "MinTemp        1.000000  0.736555  0.103938     0.466993  0.072586   \n",
       "MaxTemp        0.736555  1.000000 -0.074992     0.587932  0.470156   \n",
       "Rainfall       0.103938 -0.074992  1.000000    -0.064351 -0.227549   \n",
       "Evaporation    0.466993  0.587932 -0.064351     1.000000  0.365602   \n",
       "Sunshine       0.072586  0.470156 -0.227549     0.365602  1.000000   \n",
       "WindGustSpeed  0.177415  0.067615  0.133659     0.203021 -0.034750   \n",
       "WindSpeed9am   0.175064  0.014450  0.087338     0.193084  0.005499   \n",
       "WindSpeed3pm   0.175173  0.050300  0.057887     0.129400  0.053834   \n",
       "Humidity9am   -0.232899 -0.504110  0.224405    -0.504092 -0.490819   \n",
       "Humidity3pm    0.006089 -0.508855  0.255755    -0.390243 -0.629130   \n",
       "Pressure9am   -0.450970 -0.332061 -0.168154    -0.270362  0.041970   \n",
       "Pressure3pm   -0.461292 -0.427167 -0.126534    -0.293581 -0.019719   \n",
       "Cloud9am       0.078754 -0.289370  0.198528    -0.183793 -0.675323   \n",
       "Cloud3pm       0.021605 -0.277921  0.172403    -0.182618 -0.703930   \n",
       "Temp9am        0.901821  0.887210  0.011192     0.545115  0.291188   \n",
       "Temp3pm        0.708906  0.984503 -0.079657     0.572893  0.490501   \n",
       "\n",
       "               WindGustSpeed  WindSpeed9am  WindSpeed3pm  Humidity9am  \\\n",
       "MinTemp             0.177415      0.175064      0.175173    -0.232899   \n",
       "MaxTemp             0.067615      0.014450      0.050300    -0.504110   \n",
       "Rainfall            0.133659      0.087338      0.057887     0.224405   \n",
       "Evaporation         0.203021      0.193084      0.129400    -0.504092   \n",
       "Sunshine           -0.034750      0.005499      0.053834    -0.490819   \n",
       "WindGustSpeed       1.000000      0.605303      0.686307    -0.215070   \n",
       "WindSpeed9am        0.605303      1.000000      0.519547    -0.270858   \n",
       "WindSpeed3pm        0.686307      0.519547      1.000000    -0.145525   \n",
       "Humidity9am        -0.215070     -0.270858     -0.145525     1.000000   \n",
       "Humidity3pm        -0.026327     -0.031614      0.016432     0.666949   \n",
       "Pressure9am        -0.458744     -0.228743     -0.296351     0.139442   \n",
       "Pressure3pm        -0.413749     -0.175817     -0.255439     0.186858   \n",
       "Cloud9am            0.071736      0.025112      0.053337     0.452297   \n",
       "Cloud3pm            0.109168      0.054639      0.025396     0.357326   \n",
       "Temp9am             0.150150      0.128545      0.163030    -0.471354   \n",
       "Temp3pm             0.032748      0.004569      0.027778    -0.498399   \n",
       "\n",
       "               Humidity3pm  Pressure9am  Pressure3pm  Cloud9am  Cloud3pm  \\\n",
       "MinTemp           0.006089    -0.450970    -0.461292  0.078754  0.021605   \n",
       "MaxTemp          -0.508855    -0.332061    -0.427167 -0.289370 -0.277921   \n",
       "Rainfall          0.255755    -0.168154    -0.126534  0.198528  0.172403   \n",
       "Evaporation      -0.390243    -0.270362    -0.293581 -0.183793 -0.182618   \n",
       "Sunshine         -0.629130     0.041970    -0.019719 -0.675323 -0.703930   \n",
       "WindGustSpeed    -0.026327    -0.458744    -0.413749  0.071736  0.109168   \n",
       "WindSpeed9am     -0.031614    -0.228743    -0.175817  0.025112  0.054639   \n",
       "WindSpeed3pm      0.016432    -0.296351    -0.255439  0.053337  0.025396   \n",
       "Humidity9am       0.666949     0.139442     0.186858  0.452297  0.357326   \n",
       "Humidity3pm       1.000000    -0.027544     0.051997  0.517120  0.523120   \n",
       "Pressure9am      -0.027544     1.000000     0.961326 -0.129796 -0.147861   \n",
       "Pressure3pm       0.051997     0.961326     1.000000 -0.060772 -0.084778   \n",
       "Cloud9am          0.517120    -0.129796    -0.060772  1.000000  0.603564   \n",
       "Cloud3pm          0.523120    -0.147861    -0.084778  0.603564  1.000000   \n",
       "Temp9am          -0.221019    -0.422556    -0.470187 -0.136959 -0.126659   \n",
       "Temp3pm          -0.557841    -0.286770    -0.389548 -0.302060 -0.317420   \n",
       "\n",
       "                Temp9am   Temp3pm  \n",
       "MinTemp        0.901821  0.708906  \n",
       "MaxTemp        0.887210  0.984503  \n",
       "Rainfall       0.011192 -0.079657  \n",
       "Evaporation    0.545115  0.572893  \n",
       "Sunshine       0.291188  0.490501  \n",
       "WindGustSpeed  0.150150  0.032748  \n",
       "WindSpeed9am   0.128545  0.004569  \n",
       "WindSpeed3pm   0.163030  0.027778  \n",
       "Humidity9am   -0.471354 -0.498399  \n",
       "Humidity3pm   -0.221019 -0.557841  \n",
       "Pressure9am   -0.422556 -0.286770  \n",
       "Pressure3pm   -0.470187 -0.389548  \n",
       "Cloud9am      -0.136959 -0.302060  \n",
       "Cloud3pm      -0.126659 -0.317420  \n",
       "Temp9am        1.000000  0.860591  \n",
       "Temp3pm        0.860591  1.000000  "
      ]
     },
     "execution_count": 16,
     "metadata": {},
     "output_type": "execute_result"
    }
   ],
   "source": [
    "correlation = df.corr()\n",
    "correlation"
   ]
  },
  {
   "cell_type": "markdown",
   "id": "4f7be519",
   "metadata": {},
   "source": [
    "Para que visualmente se vea mejor y se entienda más fácilmente, se usa un mapa de calor:"
   ]
  },
  {
   "cell_type": "code",
   "execution_count": 22,
   "id": "90bf1dad",
   "metadata": {},
   "outputs": [
    {
     "data": {
      "image/png": "[encoded data removed]",
      "text/plain": [
       "<Figure size 1080x720 with 2 Axes>"
      ]
     },
     "metadata": {
      "needs_background": "light"
     },
     "output_type": "display_data"
    }
   ],
   "source": [
    "plt.figure(figsize=(15,10))\n",
    "plt.title('Correlación entre las columnas')\n",
    "fig = sns.heatmap(correlation, annot=True)       \n",
    "plt.show()"
   ]
  },
  {
   "cell_type": "markdown",
   "id": "ad9d1a46",
   "metadata": {},
   "source": [
    "Podemos observar cómo tenemos todo tipo de correlaciones: la columna `Temp9am` tiene una correlación muy fuerte con `MinTemp` y con `MaxTemp`, al igual que `Pressure3pm` con `Pressure9am`, mientras que la columna `Sunshine` tiene las correlaciones más bajas con `Cloud3pm`, `Cloud9am` y `Humidity3pm`. \n",
    "Si fuera el caso, se podría reducir la cantidad de variables simplificando el *dataset*, eliminando las variables con fuertes correlaciones entre sí."
   ]
  },
  {
   "cell_type": "markdown",
   "id": "687733b3",
   "metadata": {},
   "source": [
    "\n",
    "#### Técnicas de preprocesamiento y limpieza de datos\n",
    "\n",
    "Para la parte del procesamiento y limpieza de datos, se utilizó la herramienta `OpenRefine`. Con esta se realizaron los siguientes pasos en este ámbito:\n",
    "\n",
    "1. Se removieron todas las filas que no tuvieron ningún tipo de información, excepto por la fecha y la locación. En total, fueron 187 filas. \n",
    "2. Se convirtieron todas las variables numéricas a tipo numérico, para poder así manipularlas y visualizarlas más fácilmente.\n",
    "\n",
    "El historial de estos cambios puede ser visto en el archivo `operations.json`. Para esta parte, se realizaron un total de 17 operaciones. \n",
    "\n"
   ]
  },
  {
   "cell_type": "markdown",
   "id": "9dcbbd91",
   "metadata": {},
   "source": [
    "#### Técnicas de transformación de datos, selección y extracción de atributos\n",
    "\n",
    "Para esta sección, se llevarán a cabo cinco operaciones importantes:\n",
    "\n",
    "##### 1. División de la columna `Date` en tres columnas distintas: `Year`, `Month` y `Day`.\n",
    "\n",
    "Al igual que para la parte de preprocesamiento y limpieza de datos, se utilizó la herramienta `OpenRefine`. Para llevar a cabo esta operación, se partió la columna en tres columnas nuevas a través del separador `-`. Luego, fue cuestión de renombrar las columnas correspondientes a `Year`, `Month` y `Day`. \n",
    "\n",
    "##### 2. Transformación numérica para columnas `RainToday` y `RainTomorrow`\n",
    "\n",
    "Al igual que para la operación previa, se usó la herramienta `OpenRefine`. Para ambas columnas, se puso un `0` en caso de que el valor de la celda fuera `No` y un `1` en caso de que el valor de la celda fuera `Yes`.\n",
    "\n",
    "El historial de estos cambios puede ser visto en el archivo `operations.json`. Para esta parte, se realizaron un total de 6 operaciones, las cuales son las últimas 6 operaciones que se pueden observar en el archivo.\n",
    "\n"
   ]
  },
  {
   "cell_type": "code",
   "execution_count": 208,
   "id": "15436af0",
   "metadata": {},
   "outputs": [
    {
     "data": {
      "text/html": [
       "<div>\n",
       "<style scoped>\n",
       "    .dataframe tbody tr th:only-of-type {\n",
       "        vertical-align: middle;\n",
       "    }\n",
       "\n",
       "    .dataframe tbody tr th {\n",
       "        vertical-align: top;\n",
       "    }\n",
       "\n",
       "    .dataframe thead th {\n",
       "        text-align: right;\n",
       "    }\n",
       "</style>\n",
       "<table border=\"1\" class=\"dataframe\">\n",
       "  <thead>\n",
       "    <tr style=\"text-align: right;\">\n",
       "      <th></th>\n",
       "      <th>Year</th>\n",
       "      <th>Month</th>\n",
       "      <th>Day</th>\n",
       "      <th>Location</th>\n",
       "      <th>MinTemp</th>\n",
       "      <th>MaxTemp</th>\n",
       "      <th>Rainfall</th>\n",
       "      <th>Evaporation</th>\n",
       "      <th>Sunshine</th>\n",
       "      <th>WindGustDir</th>\n",
       "      <th>...</th>\n",
       "      <th>Humidity9am</th>\n",
       "      <th>Humidity3pm</th>\n",
       "      <th>Pressure9am</th>\n",
       "      <th>Pressure3pm</th>\n",
       "      <th>Cloud9am</th>\n",
       "      <th>Cloud3pm</th>\n",
       "      <th>Temp9am</th>\n",
       "      <th>Temp3pm</th>\n",
       "      <th>RainToday</th>\n",
       "      <th>RainTomorrow</th>\n",
       "    </tr>\n",
       "  </thead>\n",
       "  <tbody>\n",
       "    <tr>\n",
       "      <th>0</th>\n",
       "      <td>2008</td>\n",
       "      <td>12</td>\n",
       "      <td>1</td>\n",
       "      <td>Albury</td>\n",
       "      <td>13.4</td>\n",
       "      <td>22.9</td>\n",
       "      <td>0.6</td>\n",
       "      <td>NaN</td>\n",
       "      <td>NaN</td>\n",
       "      <td>W</td>\n",
       "      <td>...</td>\n",
       "      <td>71.0</td>\n",
       "      <td>22.0</td>\n",
       "      <td>1007.7</td>\n",
       "      <td>1007.1</td>\n",
       "      <td>8.0</td>\n",
       "      <td>NaN</td>\n",
       "      <td>16.9</td>\n",
       "      <td>21.8</td>\n",
       "      <td>0</td>\n",
       "      <td>0</td>\n",
       "    </tr>\n",
       "    <tr>\n",
       "      <th>1</th>\n",
       "      <td>2008</td>\n",
       "      <td>12</td>\n",
       "      <td>2</td>\n",
       "      <td>Albury</td>\n",
       "      <td>7.4</td>\n",
       "      <td>25.1</td>\n",
       "      <td>0.0</td>\n",
       "      <td>NaN</td>\n",
       "      <td>NaN</td>\n",
       "      <td>WNW</td>\n",
       "      <td>...</td>\n",
       "      <td>44.0</td>\n",
       "      <td>25.0</td>\n",
       "      <td>1010.6</td>\n",
       "      <td>1007.8</td>\n",
       "      <td>NaN</td>\n",
       "      <td>NaN</td>\n",
       "      <td>17.2</td>\n",
       "      <td>24.3</td>\n",
       "      <td>0</td>\n",
       "      <td>0</td>\n",
       "    </tr>\n",
       "    <tr>\n",
       "      <th>2</th>\n",
       "      <td>2008</td>\n",
       "      <td>12</td>\n",
       "      <td>3</td>\n",
       "      <td>Albury</td>\n",
       "      <td>12.9</td>\n",
       "      <td>25.7</td>\n",
       "      <td>0.0</td>\n",
       "      <td>NaN</td>\n",
       "      <td>NaN</td>\n",
       "      <td>WSW</td>\n",
       "      <td>...</td>\n",
       "      <td>38.0</td>\n",
       "      <td>30.0</td>\n",
       "      <td>1007.6</td>\n",
       "      <td>1008.7</td>\n",
       "      <td>NaN</td>\n",
       "      <td>2.0</td>\n",
       "      <td>21.0</td>\n",
       "      <td>23.2</td>\n",
       "      <td>0</td>\n",
       "      <td>0</td>\n",
       "    </tr>\n",
       "    <tr>\n",
       "      <th>3</th>\n",
       "      <td>2008</td>\n",
       "      <td>12</td>\n",
       "      <td>4</td>\n",
       "      <td>Albury</td>\n",
       "      <td>9.2</td>\n",
       "      <td>28.0</td>\n",
       "      <td>0.0</td>\n",
       "      <td>NaN</td>\n",
       "      <td>NaN</td>\n",
       "      <td>NE</td>\n",
       "      <td>...</td>\n",
       "      <td>45.0</td>\n",
       "      <td>16.0</td>\n",
       "      <td>1017.6</td>\n",
       "      <td>1012.8</td>\n",
       "      <td>NaN</td>\n",
       "      <td>NaN</td>\n",
       "      <td>18.1</td>\n",
       "      <td>26.5</td>\n",
       "      <td>0</td>\n",
       "      <td>0</td>\n",
       "    </tr>\n",
       "    <tr>\n",
       "      <th>4</th>\n",
       "      <td>2008</td>\n",
       "      <td>12</td>\n",
       "      <td>5</td>\n",
       "      <td>Albury</td>\n",
       "      <td>17.5</td>\n",
       "      <td>32.3</td>\n",
       "      <td>1.0</td>\n",
       "      <td>NaN</td>\n",
       "      <td>NaN</td>\n",
       "      <td>W</td>\n",
       "      <td>...</td>\n",
       "      <td>82.0</td>\n",
       "      <td>33.0</td>\n",
       "      <td>1010.8</td>\n",
       "      <td>1006.0</td>\n",
       "      <td>7.0</td>\n",
       "      <td>8.0</td>\n",
       "      <td>17.8</td>\n",
       "      <td>29.7</td>\n",
       "      <td>0</td>\n",
       "      <td>0</td>\n",
       "    </tr>\n",
       "    <tr>\n",
       "      <th>...</th>\n",
       "      <td>...</td>\n",
       "      <td>...</td>\n",
       "      <td>...</td>\n",
       "      <td>...</td>\n",
       "      <td>...</td>\n",
       "      <td>...</td>\n",
       "      <td>...</td>\n",
       "      <td>...</td>\n",
       "      <td>...</td>\n",
       "      <td>...</td>\n",
       "      <td>...</td>\n",
       "      <td>...</td>\n",
       "      <td>...</td>\n",
       "      <td>...</td>\n",
       "      <td>...</td>\n",
       "      <td>...</td>\n",
       "      <td>...</td>\n",
       "      <td>...</td>\n",
       "      <td>...</td>\n",
       "      <td>...</td>\n",
       "      <td>...</td>\n",
       "    </tr>\n",
       "    <tr>\n",
       "      <th>145268</th>\n",
       "      <td>2017</td>\n",
       "      <td>6</td>\n",
       "      <td>21</td>\n",
       "      <td>Uluru</td>\n",
       "      <td>2.8</td>\n",
       "      <td>23.4</td>\n",
       "      <td>0.0</td>\n",
       "      <td>NaN</td>\n",
       "      <td>NaN</td>\n",
       "      <td>E</td>\n",
       "      <td>...</td>\n",
       "      <td>51.0</td>\n",
       "      <td>24.0</td>\n",
       "      <td>1024.6</td>\n",
       "      <td>1020.3</td>\n",
       "      <td>NaN</td>\n",
       "      <td>NaN</td>\n",
       "      <td>10.1</td>\n",
       "      <td>22.4</td>\n",
       "      <td>0</td>\n",
       "      <td>0</td>\n",
       "    </tr>\n",
       "    <tr>\n",
       "      <th>145269</th>\n",
       "      <td>2017</td>\n",
       "      <td>6</td>\n",
       "      <td>22</td>\n",
       "      <td>Uluru</td>\n",
       "      <td>3.6</td>\n",
       "      <td>25.3</td>\n",
       "      <td>0.0</td>\n",
       "      <td>NaN</td>\n",
       "      <td>NaN</td>\n",
       "      <td>NNW</td>\n",
       "      <td>...</td>\n",
       "      <td>56.0</td>\n",
       "      <td>21.0</td>\n",
       "      <td>1023.5</td>\n",
       "      <td>1019.1</td>\n",
       "      <td>NaN</td>\n",
       "      <td>NaN</td>\n",
       "      <td>10.9</td>\n",
       "      <td>24.5</td>\n",
       "      <td>0</td>\n",
       "      <td>0</td>\n",
       "    </tr>\n",
       "    <tr>\n",
       "      <th>145270</th>\n",
       "      <td>2017</td>\n",
       "      <td>6</td>\n",
       "      <td>23</td>\n",
       "      <td>Uluru</td>\n",
       "      <td>5.4</td>\n",
       "      <td>26.9</td>\n",
       "      <td>0.0</td>\n",
       "      <td>NaN</td>\n",
       "      <td>NaN</td>\n",
       "      <td>N</td>\n",
       "      <td>...</td>\n",
       "      <td>53.0</td>\n",
       "      <td>24.0</td>\n",
       "      <td>1021.0</td>\n",
       "      <td>1016.8</td>\n",
       "      <td>NaN</td>\n",
       "      <td>NaN</td>\n",
       "      <td>12.5</td>\n",
       "      <td>26.1</td>\n",
       "      <td>0</td>\n",
       "      <td>0</td>\n",
       "    </tr>\n",
       "    <tr>\n",
       "      <th>145271</th>\n",
       "      <td>2017</td>\n",
       "      <td>6</td>\n",
       "      <td>24</td>\n",
       "      <td>Uluru</td>\n",
       "      <td>7.8</td>\n",
       "      <td>27.0</td>\n",
       "      <td>0.0</td>\n",
       "      <td>NaN</td>\n",
       "      <td>NaN</td>\n",
       "      <td>SE</td>\n",
       "      <td>...</td>\n",
       "      <td>51.0</td>\n",
       "      <td>24.0</td>\n",
       "      <td>1019.4</td>\n",
       "      <td>1016.5</td>\n",
       "      <td>3.0</td>\n",
       "      <td>2.0</td>\n",
       "      <td>15.1</td>\n",
       "      <td>26.0</td>\n",
       "      <td>0</td>\n",
       "      <td>0</td>\n",
       "    </tr>\n",
       "    <tr>\n",
       "      <th>145272</th>\n",
       "      <td>2017</td>\n",
       "      <td>6</td>\n",
       "      <td>25</td>\n",
       "      <td>Uluru</td>\n",
       "      <td>14.9</td>\n",
       "      <td>NaN</td>\n",
       "      <td>0.0</td>\n",
       "      <td>NaN</td>\n",
       "      <td>NaN</td>\n",
       "      <td>NaN</td>\n",
       "      <td>...</td>\n",
       "      <td>62.0</td>\n",
       "      <td>36.0</td>\n",
       "      <td>1020.2</td>\n",
       "      <td>1017.9</td>\n",
       "      <td>8.0</td>\n",
       "      <td>8.0</td>\n",
       "      <td>15.0</td>\n",
       "      <td>20.9</td>\n",
       "      <td>0</td>\n",
       "      <td>1</td>\n",
       "    </tr>\n",
       "  </tbody>\n",
       "</table>\n",
       "<p>145273 rows × 25 columns</p>\n",
       "</div>"
      ],
      "text/plain": [
       "        Year  Month  Day Location  MinTemp  MaxTemp  Rainfall  Evaporation  \\\n",
       "0       2008     12    1   Albury     13.4     22.9       0.6          NaN   \n",
       "1       2008     12    2   Albury      7.4     25.1       0.0          NaN   \n",
       "2       2008     12    3   Albury     12.9     25.7       0.0          NaN   \n",
       "3       2008     12    4   Albury      9.2     28.0       0.0          NaN   \n",
       "4       2008     12    5   Albury     17.5     32.3       1.0          NaN   \n",
       "...      ...    ...  ...      ...      ...      ...       ...          ...   \n",
       "145268  2017      6   21    Uluru      2.8     23.4       0.0          NaN   \n",
       "145269  2017      6   22    Uluru      3.6     25.3       0.0          NaN   \n",
       "145270  2017      6   23    Uluru      5.4     26.9       0.0          NaN   \n",
       "145271  2017      6   24    Uluru      7.8     27.0       0.0          NaN   \n",
       "145272  2017      6   25    Uluru     14.9      NaN       0.0          NaN   \n",
       "\n",
       "        Sunshine WindGustDir  ...  Humidity9am Humidity3pm Pressure9am  \\\n",
       "0            NaN           W  ...         71.0        22.0      1007.7   \n",
       "1            NaN         WNW  ...         44.0        25.0      1010.6   \n",
       "2            NaN         WSW  ...         38.0        30.0      1007.6   \n",
       "3            NaN          NE  ...         45.0        16.0      1017.6   \n",
       "4            NaN           W  ...         82.0        33.0      1010.8   \n",
       "...          ...         ...  ...          ...         ...         ...   \n",
       "145268       NaN           E  ...         51.0        24.0      1024.6   \n",
       "145269       NaN         NNW  ...         56.0        21.0      1023.5   \n",
       "145270       NaN           N  ...         53.0        24.0      1021.0   \n",
       "145271       NaN          SE  ...         51.0        24.0      1019.4   \n",
       "145272       NaN         NaN  ...         62.0        36.0      1020.2   \n",
       "\n",
       "        Pressure3pm  Cloud9am  Cloud3pm  Temp9am  Temp3pm  RainToday  \\\n",
       "0            1007.1       8.0       NaN     16.9     21.8          0   \n",
       "1            1007.8       NaN       NaN     17.2     24.3          0   \n",
       "2            1008.7       NaN       2.0     21.0     23.2          0   \n",
       "3            1012.8       NaN       NaN     18.1     26.5          0   \n",
       "4            1006.0       7.0       8.0     17.8     29.7          0   \n",
       "...             ...       ...       ...      ...      ...        ...   \n",
       "145268       1020.3       NaN       NaN     10.1     22.4          0   \n",
       "145269       1019.1       NaN       NaN     10.9     24.5          0   \n",
       "145270       1016.8       NaN       NaN     12.5     26.1          0   \n",
       "145271       1016.5       3.0       2.0     15.1     26.0          0   \n",
       "145272       1017.9       8.0       8.0     15.0     20.9          0   \n",
       "\n",
       "        RainTomorrow  \n",
       "0                  0  \n",
       "1                  0  \n",
       "2                  0  \n",
       "3                  0  \n",
       "4                  0  \n",
       "...              ...  \n",
       "145268             0  \n",
       "145269             0  \n",
       "145270             0  \n",
       "145271             0  \n",
       "145272             1  \n",
       "\n",
       "[145273 rows x 25 columns]"
      ]
     },
     "execution_count": 208,
     "metadata": {},
     "output_type": "execute_result"
    }
   ],
   "source": [
    "# cargamos el dataset limpio y con las nuevas columnas y los nuevos valores de RainToday y RainTomorrow\n",
    "\n",
    "csv_path_clean = './weatherAUS_clean.csv'\n",
    "\n",
    "df_clean = pd.read_csv(csv_path_clean)\n",
    "\n",
    "df_clean"
   ]
  },
  {
   "cell_type": "markdown",
   "id": "1c42c1a1",
   "metadata": {},
   "source": [
    "\n",
    "##### 3. Rellenar valores vacíos para tanto variables categóricas como numéricas\n",
    "\n",
    "Viendo que existen más de 60000 filas de datos con una o más celdas faltantes, se rellenarán las celdas vacías utilizando las medianas de las variables numéricas y los valores más repetidos en las variables categóricas. Esto permitirá que no se pierda información relevante, a pesar de que le falten celdas de información a las filas. Esta idea fue propuesta por la siguiente [guía](https://www.kaggle.com/prashant111/extensive-analysis-eda-fe-modelling) creada por Prashant Banerjee."
   ]
  },
  {
   "cell_type": "code",
   "execution_count": 209,
   "id": "5c349fda",
   "metadata": {},
   "outputs": [],
   "source": [
    "# conseguimos las variables numéricas\n",
    "numerical = [col for col in df_clean.columns if df_clean[col].dtypes != 'O']\n",
    "\n",
    "# conseguimos las variables categóricas\n",
    "\n",
    "categorical = [col for col in df_clean.columns if df_clean[col].dtypes == 'O']\n",
    "\n",
    "# rellenamos las variables numéricas usando la mediana de cada una de las columnas\n",
    "for column in numerical:\n",
    "    median = df_clean[column].median()\n",
    "    df_clean.fillna(median, inplace=True)\n",
    "    \n",
    "# rellenamos las variables categóricas usando el valor más común para cada una de las columnas\n",
    "for col in categorical:\n",
    "    df_clean[col].fillna(df_clean[col].mode()[0], inplace= True)\n"
   ]
  },
  {
   "cell_type": "markdown",
   "id": "40024032",
   "metadata": {},
   "source": [
    "##### 4.  Usar la regla de 1.5IQR para eliminar gran cantidad de *outliers*\n",
    "\n",
    "Ya que para las 4 columnas numéricas previamente mencionadas existe una gran cantidad de *outliers*, se aplicará la regla de 1.5 IQR para eliminar gran parte de ellos."
   ]
  },
  {
   "cell_type": "code",
   "execution_count": 210,
   "id": "6b760e81",
   "metadata": {
    "scrolled": false
   },
   "outputs": [
    {
     "data": {
      "image/png": "[encoded data removed]",
      "text/plain": [
       "<Figure size 1080x720 with 4 Axes>"
      ]
     },
     "metadata": {
      "needs_background": "light"
     },
     "output_type": "display_data"
    }
   ],
   "source": [
    "def iqr(df, column):\n",
    "    q1 = df[column].quantile(0.25)                 \n",
    "    q3 = df[column].quantile(0.75)\n",
    "    iqr = q3 - q1\n",
    "    # Apply filter with respect to IQR, including optional whiskers\n",
    "    filter = (df[column] >= q1 - 1.5*iqr) & (df[column] <= q3 + 1.5*iqr)\n",
    "    return df.loc[filter] \n",
    "\n",
    "df_clean_1 = iqr(df_clean, 'Rainfall')\n",
    "df_clean_2 = iqr(df_clean_1, 'Evaporation')\n",
    "df_clean_3 = iqr(df_clean_2, 'WindSpeed9am')\n",
    "df_clean_4 = iqr(df_clean_3, 'WindSpeed3pm')\n",
    "\n",
    "plt.figure(figsize=(15,10))\n",
    "\n",
    "def draw_boxplot_clean(column_name, position):\n",
    "    plt.subplot(2,2,position)\n",
    "    fig = df_clean_4.boxplot(column=column_name)\n",
    "    fig.set_ylabel(column_name)\n",
    "\n",
    "draw_boxplot_clean('Rainfall',1)\n",
    "draw_boxplot_clean('Evaporation',2)\n",
    "draw_boxplot_clean('WindSpeed9am',3)\n",
    "draw_boxplot_clean('WindSpeed3pm',4)\n"
   ]
  },
  {
   "cell_type": "markdown",
   "id": "0e2b58ce",
   "metadata": {},
   "source": [
    "##### 5. Separar datos en *sets* de entrenamiento como de testeo y separar la variable de respuesta"
   ]
  },
  {
   "cell_type": "code",
   "execution_count": 242,
   "id": "3da0addc",
   "metadata": {},
   "outputs": [],
   "source": [
    "X = df_clean_4.drop(['RainTomorrow'], axis=1)\n",
    "\n",
    "y = df_clean_4['RainTomorrow']\n",
    "# split X and y into training and testing sets\n",
    "            \n",
    "from sklearn.model_selection import train_test_split\n",
    "\n",
    "X_train, X_test, y_train, y_test = train_test_split(X, y, test_size = 0.2, random_state = 0)"
   ]
  },
  {
   "cell_type": "markdown",
   "id": "2cc82253",
   "metadata": {},
   "source": [
    "##### 6. Hacer *encode* para las variables categóricas\n",
    "\n",
    "En el *dataset*, nos quedan restantes las variables `Location`, `WindGustDir`, `WindDir9am` y `WindDir9pm` como categóricas, por lo que tenemos que transformarlas a numéricas para poder procesarlas en los modelos. Para eso, se va a utilizar la librería `category_encoders`."
   ]
  },
  {
   "cell_type": "code",
   "execution_count": 211,
   "id": "d693130f",
   "metadata": {},
   "outputs": [
    {
     "name": "stdout",
     "output_type": "stream",
     "text": [
      "Requirement already satisfied: category_encoders in c:\\users\\fezeq\\anaconda3\\lib\\site-packages (2.3.0)\n",
      "Requirement already satisfied: scikit-learn>=0.20.0 in c:\\users\\fezeq\\anaconda3\\lib\\site-packages (from category_encoders) (0.24.1)\n",
      "Requirement already satisfied: scipy>=1.0.0 in c:\\users\\fezeq\\anaconda3\\lib\\site-packages (from category_encoders) (1.6.2)\n",
      "Requirement already satisfied: patsy>=0.5.1 in c:\\users\\fezeq\\anaconda3\\lib\\site-packages (from category_encoders) (0.5.1)\n",
      "Requirement already satisfied: pandas>=0.21.1 in c:\\users\\fezeq\\anaconda3\\lib\\site-packages (from category_encoders) (1.2.4)\n",
      "Requirement already satisfied: numpy>=1.14.0 in c:\\users\\fezeq\\anaconda3\\lib\\site-packages (from category_encoders) (1.19.5)\n",
      "Requirement already satisfied: statsmodels>=0.9.0 in c:\\users\\fezeq\\anaconda3\\lib\\site-packages (from category_encoders) (0.12.2)\n",
      "Requirement already satisfied: python-dateutil>=2.7.3 in c:\\users\\fezeq\\anaconda3\\lib\\site-packages (from pandas>=0.21.1->category_encoders) (2.8.1)\n",
      "Requirement already satisfied: pytz>=2017.3 in c:\\users\\fezeq\\anaconda3\\lib\\site-packages (from pandas>=0.21.1->category_encoders) (2021.1)\n",
      "Requirement already satisfied: six in c:\\users\\fezeq\\anaconda3\\lib\\site-packages (from patsy>=0.5.1->category_encoders) (1.15.0)\n",
      "Requirement already satisfied: joblib>=0.11 in c:\\users\\fezeq\\anaconda3\\lib\\site-packages (from scikit-learn>=0.20.0->category_encoders) (1.0.1)\n",
      "Requirement already satisfied: threadpoolctl>=2.0.0 in c:\\users\\fezeq\\anaconda3\\lib\\site-packages (from scikit-learn>=0.20.0->category_encoders) (2.1.0)\n"
     ]
    }
   ],
   "source": [
    "# instalando la librería\n",
    "!pip install category_encoders"
   ]
  },
  {
   "cell_type": "code",
   "execution_count": 243,
   "id": "abf745c3",
   "metadata": {},
   "outputs": [
    {
     "name": "stdout",
     "output_type": "stream",
     "text": [
      "(90857, 120)\n",
      "(22715, 120)\n",
      "(113572, 120)\n"
     ]
    }
   ],
   "source": [
    "# haciendole encode a todas las variables de tipo str\n",
    "\n",
    "import category_encoders as ce\n",
    "\n",
    "encoder = ce.OneHotEncoder()\n",
    "\n",
    "X = encoder.fit_transform(X)\n",
    "X_train = encoder.fit_transform(X_train)\n",
    "X_test = encoder.fit_transform(X_test)\n",
    "\n",
    "print(X.shape)\n",
    "print(X_train.shape)\n",
    "print(X_test.shape)\n"
   ]
  },
  {
   "cell_type": "markdown",
   "id": "460ae59e",
   "metadata": {},
   "source": [
    "##### 7. Hacer un escalado para las variables numéricas\n",
    "\n",
    "Este paso se realiza para tener a todas las variables en la escala del 0 al 1. Se utilizará la librería `sklearn.preprocessing` con su clase `MinMaxScaler` para este fin."
   ]
  },
  {
   "cell_type": "code",
   "execution_count": 244,
   "id": "09a75d26",
   "metadata": {},
   "outputs": [],
   "source": [
    "from sklearn.preprocessing import MinMaxScaler\n",
    "\n",
    "scaler = MinMaxScaler()\n",
    "\n",
    "X = scaler.transform(X)\n",
    "\n",
    "X_train = scaler.fit_transform(X_train)\n",
    "\n",
    "X_test = scaler.transform(X_test)"
   ]
  },
  {
   "cell_type": "markdown",
   "id": "6f74be37",
   "metadata": {},
   "source": [
    "Finalmente, ya tenemos el *dataset* completamente preparado para realizar e implementar los algoritmos de aprendizaje.\n",
    "\n",
    "#### Uso de algoritmos de aprendizaje mecánico\n",
    "\n",
    "Para esta tarea los siguientes dos modelos serán utilizados para poder predecir la variable `RainTomorrow`: *`RandomForest`* y *`Extreme Gradient Boost`*. Inicialmente, se probarán ambos con los hiperparámetros por defecto para no tener ninguna interferencia con el modelo. Una vez que se tenga los resultados del primer modelo, se escogerá el modelo cuyo rendimiento fuese mejor para evaluarlo y mejorarlo. \n",
    "\n",
    "##### 1. RandomForest"
   ]
  },
  {
   "cell_type": "code",
   "execution_count": 246,
   "id": "68157046",
   "metadata": {},
   "outputs": [
    {
     "name": "stdout",
     "output_type": "stream",
     "text": [
      "Accuracy: 0.871 (0.002)\n"
     ]
    }
   ],
   "source": [
    "# random forest algorithm for classification\n",
    "from numpy import mean\n",
    "from numpy import std\n",
    "from sklearn.datasets import make_classification\n",
    "from sklearn.model_selection import cross_val_score\n",
    "from sklearn.model_selection import RepeatedStratifiedKFold\n",
    "from sklearn.ensemble import RandomForestClassifier\n",
    "# define the model\n",
    "model = RandomForestClassifier()\n",
    "# evaluate the model\n",
    "cv = RepeatedStratifiedKFold(n_splits=10, n_repeats=3, random_state=1)\n",
    "n_scores = cross_val_score(model,X, y, scoring='accuracy', cv=cv, n_jobs=-1, error_score='raise')\n",
    "# report performance\n",
    "print('Accuracy: %.3f (%.3f)' % (mean(n_scores), std(n_scores)))"
   ]
  },
  {
   "cell_type": "markdown",
   "id": "985a2665",
   "metadata": {},
   "source": [
    "Se puede observar como el *performance* del modelo usando *RandomForest* fue de 87.1% con una desviación estándar de 0.2, lo cual es bastante consistente. "
   ]
  },
  {
   "cell_type": "markdown",
   "id": "36924b7c",
   "metadata": {},
   "source": [
    "##### 2.Extreme Gradient Boost\n"
   ]
  },
  {
   "cell_type": "code",
   "execution_count": 247,
   "id": "ef7c307b",
   "metadata": {
    "scrolled": true
   },
   "outputs": [
    {
     "name": "stdout",
     "output_type": "stream",
     "text": [
      "Accuracy: 0.875 (0.002)\n"
     ]
    }
   ],
   "source": [
    "# evaluate xgboost algorithm for classification\n",
    "from numpy import mean\n",
    "from numpy import std\n",
    "from sklearn.datasets import make_classification\n",
    "from sklearn.model_selection import cross_val_score\n",
    "from sklearn.model_selection import RepeatedStratifiedKFold\n",
    "from xgboost import XGBClassifier\n",
    "# define the model\n",
    "model = XGBClassifier()\n",
    "# evaluate the model\n",
    "cv = RepeatedStratifiedKFold(n_splits=10, n_repeats=3, random_state=1)\n",
    "n_scores = cross_val_score(model, X, y, scoring='accuracy', cv=cv, n_jobs=-1)\n",
    "# report performance\n",
    "print('Accuracy: %.3f (%.3f)' % (mean(n_scores), std(n_scores)))"
   ]
  },
  {
   "cell_type": "markdown",
   "id": "194c9531",
   "metadata": {},
   "source": [
    "Por otro lado, usando el algoritmo de *Extreme Gradient Boost*, podemos obsercar como fue ligeramente mejor que el *Random Forest*, ya que el *performance* de este algoritmo fue de 87.5% con la misma desviación estándar que el algoritmo previo. Teniendo en cuenta esto, se utilizará *Extreme Gradient Boost* para intentar maximizar y encontrar los hiperparámetros ideales.\n",
    "\n",
    "#### Uso de técnicas de evaluación de modelos\n",
    "\n",
    "Las siguientes dos técnicas de evaluación y mejora predictiva de los modelos será utilizados:\n",
    "\n",
    "##### 1. Explorar la cantidad de features usados para cada modelo\n",
    "##### 2. Explorar la cantidad de samples para cada modelo\n",
    "\n",
    "Estas dos técnicas serán utilizadas, usando *RepeatedStratifiedKFold*, para encontrar los valores de los hiperparámetros que permite tener el máximo porcentaje de rendimiento de los \n",
    "Vamos a estar utilizando tanto el *RandomForest* como *Extreme Gradient Boost*, ya que las diferencias entre ambos modelos son relativamente pequeñas, por lo que es posible que ajustando hiperparámetros, una fácilmente sobrepase a la otra. Teniendo esto, los posibles valores para los hiperparámetros serán:\n",
    "\n",
    "- Features\n",
    "    - [0.1,0.2,0.3,0.4,0.5,0.6,0.7,0.8,0.9,1.0]\n",
    "- Samples\n",
    "    - [0.1,0.2,0.3,0.4,0.5,0.6,0.7,0.8,0.9,1.0]"
   ]
  },
  {
   "cell_type": "code",
   "execution_count": 255,
   "id": "7539a36b",
   "metadata": {},
   "outputs": [
    {
     "name": "stdout",
     "output_type": "stream",
     "text": [
      ">0.1,0.1 0.860 (0.003)\n",
      ">0.1,0.2 0.862 (0.003)\n",
      ">0.1,0.30000000000000004 0.861 (0.003)\n",
      ">0.1,0.4 0.861 (0.002)\n",
      ">0.1,0.5 0.860 (0.003)\n",
      ">0.1,0.6 0.860 (0.003)\n",
      ">0.1,0.7000000000000001 0.860 (0.003)\n",
      ">0.1,0.8 0.859 (0.003)\n",
      ">0.1,0.9 0.859 (0.003)\n",
      ">0.1,1.0 0.859 (0.003)\n",
      ">0.2,0.1 0.865 (0.002)\n",
      ">0.2,0.2 0.866 (0.003)\n",
      ">0.2,0.30000000000000004 0.866 (0.003)\n",
      ">0.2,0.4 0.867 (0.002)\n",
      ">0.2,0.5 0.867 (0.002)\n",
      ">0.2,0.6 0.867 (0.002)\n",
      ">0.2,0.7000000000000001 0.867 (0.003)\n",
      ">0.2,0.8 0.867 (0.003)\n",
      ">0.2,0.9 0.867 (0.003)\n",
      ">0.2,1.0 0.867 (0.003)\n",
      ">0.3,0.1 0.867 (0.002)\n",
      ">0.3,0.2 0.869 (0.003)\n",
      ">0.3,0.30000000000000004 0.870 (0.003)\n",
      ">0.3,0.4 0.869 (0.003)\n",
      ">0.3,0.5 0.870 (0.003)\n",
      ">0.3,0.6 0.870 (0.003)\n",
      ">0.3,0.7000000000000001 0.870 (0.002)\n",
      ">0.3,0.8 0.870 (0.002)\n",
      ">0.3,0.9 0.870 (0.003)\n",
      ">0.3,1.0 0.870 (0.003)\n",
      ">0.4,0.1 0.868 (0.003)\n",
      ">0.4,0.2 0.870 (0.002)\n",
      ">0.4,0.30000000000000004 0.871 (0.003)\n",
      ">0.4,0.4 0.872 (0.002)\n",
      ">0.4,0.5 0.872 (0.003)\n",
      ">0.4,0.6 0.872 (0.003)\n",
      ">0.4,0.7000000000000001 0.872 (0.003)\n",
      ">0.4,0.8 0.872 (0.003)\n",
      ">0.4,0.9 0.872 (0.003)\n",
      ">0.4,1.0 0.872 (0.002)\n",
      ">0.5,0.1 0.869 (0.002)\n",
      ">0.5,0.2 0.872 (0.003)\n",
      ">0.5,0.30000000000000004 0.873 (0.003)\n",
      ">0.5,0.4 0.873 (0.003)\n",
      ">0.5,0.5 0.873 (0.003)\n",
      ">0.5,0.6 0.873 (0.002)\n",
      ">0.5,0.7000000000000001 0.872 (0.003)\n",
      ">0.5,0.8 0.873 (0.003)\n",
      ">0.5,0.9 0.873 (0.003)\n",
      ">0.5,1.0 0.873 (0.003)\n",
      ">0.6,0.1 0.869 (0.003)\n",
      ">0.6,0.2 0.872 (0.003)\n",
      ">0.6,0.30000000000000004 0.873 (0.002)\n",
      ">0.6,0.4 0.874 (0.003)\n",
      ">0.6,0.5 0.874 (0.003)\n",
      ">0.6,0.6 0.874 (0.003)\n",
      ">0.6,0.7000000000000001 0.874 (0.003)\n",
      ">0.6,0.8 0.874 (0.003)\n",
      ">0.6,0.9 0.874 (0.003)\n",
      ">0.6,1.0 0.874 (0.003)\n",
      ">0.7,0.1 0.869 (0.002)\n",
      ">0.7,0.2 0.872 (0.002)\n",
      ">0.7,0.30000000000000004 0.874 (0.003)\n",
      ">0.7,0.4 0.874 (0.002)\n",
      ">0.7,0.5 0.875 (0.003)\n",
      ">0.7,0.6 0.875 (0.002)\n",
      ">0.7,0.7000000000000001 0.874 (0.002)\n",
      ">0.7,0.8 0.874 (0.002)\n",
      ">0.7,0.9 0.874 (0.002)\n",
      ">0.7,1.0 0.875 (0.003)\n",
      ">0.8,0.1 0.870 (0.002)\n",
      ">0.8,0.2 0.873 (0.003)\n",
      ">0.8,0.30000000000000004 0.874 (0.002)\n",
      ">0.8,0.4 0.874 (0.003)\n",
      ">0.8,0.5 0.875 (0.002)\n",
      ">0.8,0.6 0.875 (0.003)\n",
      ">0.8,0.7000000000000001 0.875 (0.003)\n",
      ">0.8,0.8 0.875 (0.003)\n",
      ">0.8,0.9 0.875 (0.003)\n",
      ">0.8,1.0 0.875 (0.003)\n",
      ">0.9,0.1 0.871 (0.002)\n",
      ">0.9,0.2 0.873 (0.002)\n",
      ">0.9,0.30000000000000004 0.874 (0.003)\n",
      ">0.9,0.4 0.875 (0.003)\n",
      ">0.9,0.5 0.875 (0.002)\n",
      ">0.9,0.6 0.875 (0.003)\n",
      ">0.9,0.7000000000000001 0.875 (0.002)\n",
      ">0.9,0.8 0.875 (0.003)\n",
      ">0.9,0.9 0.875 (0.003)\n",
      ">0.9,1.0 0.876 (0.003)\n",
      ">1.0,0.1 0.871 (0.002)\n",
      ">1.0,0.2 0.874 (0.002)\n",
      ">1.0,0.30000000000000004 0.875 (0.003)\n",
      ">1.0,0.4 0.875 (0.003)\n",
      ">1.0,0.5 0.875 (0.002)\n",
      ">1.0,0.6 0.875 (0.002)\n",
      ">1.0,0.7000000000000001 0.875 (0.002)\n",
      ">1.0,0.8 0.875 (0.003)\n",
      ">1.0,0.9 0.875 (0.002)\n",
      ">1.0,1.0 0.875 (0.002)\n"
     ]
    }
   ],
   "source": [
    "from numpy import arange\n",
    "from numpy import mean\n",
    "from numpy import std\n",
    "from sklearn.datasets import make_classification\n",
    "from sklearn.model_selection import cross_val_score\n",
    "from sklearn.model_selection import RepeatedStratifiedKFold\n",
    "from xgboost import XGBClassifier\n",
    "from sklearn.ensemble import RandomForestClassifier\n",
    "from matplotlib import pyplot\n",
    "\n",
    "# get a list of models to evaluate\n",
    "def get_models():\n",
    "    models_XGB = dict()\n",
    "    for sample_size in arange(0.1, 1.1, 0.1):\n",
    "        for feature_size in arange(0.1, 1.1, 0.1):\n",
    "            key = '%.1f' % sample_size\n",
    "            models_XGB[str(str(key)+ ',' + str(feature_size))] = XGBClassifier(subsample=sample_size,colsample_bytree=feature_size)\n",
    "    return models_XGB\n",
    "\n",
    "def evaluate_model(model):\n",
    "    cv = RepeatedStratifiedKFold(n_splits=10, n_repeats=3, random_state=1)\n",
    "    scores = cross_val_score(model, X, y, scoring='accuracy', cv=cv, n_jobs=-1)\n",
    "    return scores\n",
    "\n",
    "models_XGB = get_models()\n",
    "results, names = list(), list()\n",
    "for name, model in models_XGB.items():\n",
    "    scores = evaluate_model(model)\n",
    "    results.append(scores)\n",
    "    names.append(name)\n",
    "    print('>%s %.3f (%.3f)' % (name, mean(scores), std(scores)))\n",
    "# plot model performance for comparison\n"
   ]
  },
  {
   "cell_type": "markdown",
   "id": "52708cf4",
   "metadata": {},
   "source": [
    "##### Nested Cross-Validation\n",
    "\n",
    "Finalmente, para realizar las pruebas correspondientes al modelo y asegurarnos que se está probando de la mejor forma posible, se usará *Nested Cross-Validation* para revisar si existe la posibilidad de aumentar el *performance* dependiendo del tipo de validación que se realice. Este código fue inspirado en la siguiente [guía](https://machinelearningmastery.com/nested-cross-validation-for-machine-learning-with-python/#:~:text=Nested%20cross%2Dvalidation%20is%20an,of%20overfitting%20the%20training%20dataset.&text=Typically%2C%20the%20k%2Dfold%20cross,model%20on%20the%20holdout%20fold.).\n",
    "Para este caso, me enfoqué en el *learning rate* y la cantidad máxima de *features*, para así ver si los resultados variaban y poder abarcar la máxima cantidad de hiperparámetros posible.\n"
   ]
  },
  {
   "cell_type": "code",
   "execution_count": 259,
   "id": "76aad436",
   "metadata": {},
   "outputs": [
    {
     "name": "stdout",
     "output_type": "stream",
     "text": [
      "Accuracy: 0.875 (0.003)\n"
     ]
    }
   ],
   "source": [
    "from sklearn.model_selection import KFold\n",
    "from sklearn.model_selection import GridSearchCV\n",
    "\n",
    "# configure the cross-validation procedure\n",
    "cv_inner = KFold(n_splits=3, shuffle=True, random_state=1)\n",
    "# define the model\n",
    "model_nested = XGBClassifier(random_state=1)\n",
    "\n",
    "space = dict()\n",
    "space['rates'] = [0.0001, 0.001, 0.01, 0.1,0.5 ,1.0]\n",
    "space['max_features'] = range(1,11)\n",
    "# define search\n",
    "search = GridSearchCV(model, space, scoring='accuracy', n_jobs=1, cv=cv_inner, refit=True)\n",
    "# configure the cross-validation procedure\n",
    "cv_outer = KFold(n_splits=10, shuffle=True, random_state=1)\n",
    "# execute the nested cross-validation\n",
    "scores_nested = cross_val_score(search, X, y, scoring='accuracy', cv=cv_outer, n_jobs=-1)\n",
    "# report performance\n",
    "print('Accuracy: %.3f (%.3f)' % (mean(scores_nested), std(scores_nested)))"
   ]
  },
  {
   "cell_type": "code",
   "execution_count": 303,
   "id": "75b2805b",
   "metadata": {},
   "outputs": [
    {
     "data": {
      "text/plain": [
       "array([0.87665082, 0.87075189, 0.88165889, 0.87170908, 0.87575944,\n",
       "       0.87769657, 0.87461478, 0.87716827, 0.87241349, 0.87575944])"
      ]
     },
     "execution_count": 303,
     "metadata": {},
     "output_type": "execute_result"
    }
   ],
   "source": [
    "scores_nested"
   ]
  },
  {
   "cell_type": "markdown",
   "id": "c807af0e",
   "metadata": {},
   "source": [
    "Desafortunadamente, la precisión promedio evaluando los diferentes rangos de cantidad máxima de *features* y de *learning rate*.  \n",
    "\n",
    "#### Resultados\n",
    "\n",
    "Como podemos observar en el siguiente gráfico, donde el eje **y** constituye a todas las corridas de los modelos y el eje **x** su promedio, la media para la efectividad del modelo va logarítmicamente aumentando, a pesar de que se pueden ver ciertos *outliers*."
   ]
  },
  {
   "cell_type": "code",
   "execution_count": 260,
   "id": "a7550332",
   "metadata": {
    "scrolled": true
   },
   "outputs": [
    {
     "data": {
      "image/png": "[encoded data removed]",
      "text/plain": [
       "<Figure size 432x288 with 1 Axes>"
      ]
     },
     "metadata": {
      "needs_background": "light"
     },
     "output_type": "display_data"
    }
   ],
   "source": [
    "pyplot.boxplot(results, showmeans=True)\n",
    "pyplot.show()"
   ]
  },
  {
   "cell_type": "markdown",
   "id": "9385e723",
   "metadata": {},
   "source": [
    "Agarraremos el primero de los resultados, el del medio y el último para entender mejor los resultados y cómo los hiperparámetros influyen en la precisión de cada uno de los modelos generados."
   ]
  },
  {
   "cell_type": "code",
   "execution_count": 309,
   "id": "ba6ab498",
   "metadata": {
    "scrolled": true
   },
   "outputs": [
    {
     "data": {
      "image/png": "[encoded data removed]",
      "text/plain": [
       "<Figure size 720x360 with 3 Axes>"
      ]
     },
     "metadata": {
      "needs_background": "light"
     },
     "output_type": "display_data"
    }
   ],
   "source": [
    "plt.figure(figsize=(10,5))\n",
    "def draw_boxplot_comparison(column_name, position):\n",
    "    plt.subplot(2,2,position)\n",
    "    pyplot.boxplot(results[column_name], showmeans=True)\n",
    "\n",
    "draw_boxplot_comparison(0,1)\n",
    "draw_boxplot_comparison(49,2)\n",
    "draw_boxplot_comparison(99,3)\n",
    "\n",
    "pyplot.show()"
   ]
  },
  {
   "cell_type": "markdown",
   "id": "61643a75",
   "metadata": {},
   "source": [
    "En esta separación de los *boxplots*, donde el *boxplot* superior izquierdo es el primero de los resultados de los modelos, el *boxplot* superior derecho es el modelo con hiperparámetros `0.5` y `0.5`, y el *boxplot* inferior izquierdo corresponde al último modelo generado. Se puede observar como, mientras que se va aumentando los valores de ambos hiperparámetros, la precisión de los modelos generados va aumentando de toda forma: el mínimo, el máximo y la media son mayores todas a través de las iteraciones, siendo la media la máxima con el último modelo generado con hiperparámetros `1.0` y `1.0`.\n",
    "\n",
    "Adicionalmente, se puede observar en la siguiente tabla todas las validaciones que se realizaron para cada uno de los modelos con los hiperparámetros. Podemos observar que, entre el primer y el segundo modelo, existe una diferencia bastante notable de 1%, mientras que la diferencia entre el segundo y el último modelo es relativamente pequeña."
   ]
  },
  {
   "cell_type": "code",
   "execution_count": 281,
   "id": "7fd599f9",
   "metadata": {},
   "outputs": [
    {
     "data": {
      "application/vnd.plotly.v1+json": {
       "config": {
        "plotlyServerURL": "https://plot.ly"
       },
       "data": [
        {
         "cells": {
          "values": [
           [
            0.8579855608381758,
            0.8630040500088043,
            0.8599982389715594,
            0.8614951131460773,
            0.8634322444307475,
            0.8615831645681078,
            0.853306330897244,
            0.8592057761732852,
            0.8614951131460773,
            0.8622875759443515,
            0.8648529670716676,
            0.856929036802254,
            0.8620234216782601,
            0.859910187549529,
            0.8567403363564322,
            0.8619353702562297,
            0.8616712159901383,
            0.8593818790173461,
            0.8632561415866866,
            0.8563000792462798,
            0.8629160063391442,
            0.8613312202852615,
            0.8595579818614071,
            0.8570044906225236,
            0.8621995245223211,
            0.8612309588799859,
            0.8618473188341992,
            0.862375627366382,
            0.8611429074579554,
            0.8550673593378533
           ],
           [
            0.8713681986265187,
            0.8713681986265187,
            0.8706524610372458,
            0.8782248833318658,
            0.8746147750286167,
            0.875055032138769,
            0.8681870212203927,
            0.8707405124592762,
            0.875055032138769,
            0.8739984150744035,
            0.8764747314668075,
            0.8689910195456947,
            0.8730298494320683,
            0.8727656951659769,
            0.8763758034692261,
            0.872413489477855,
            0.8761997006251651,
            0.8665140442018139,
            0.8734701065422207,
            0.8718851809456722,
            0.8745377707342842,
            0.8719845043141398,
            0.8687153297525755,
            0.8754072378268909,
            0.8764638548912564,
            0.8730298494320683,
            0.873910363652373,
            0.8731179008540988,
            0.8766399577353174,
            0.8742625693404948
           ],
           [
            0.8747138580736045,
            0.876738862475788,
            0.8733820551201902,
            0.8801620146165361,
            0.8769921634234393,
            0.8769041120014088,
            0.8705644096152153,
            0.8764638548912564,
            0.8771682662675002,
            0.8768160605793783,
            0.8784116921993309,
            0.8720725479838,
            0.8761116492031347,
            0.8765519063132869,
            0.8759355463590737,
            0.8737342608083121,
            0.8764638548912564,
            0.8717971295236419,
            0.8784890375979572,
            0.8715329752575504,
            0.875594294770206,
            0.8762106004578271,
            0.875055032138769,
            0.8733820551201902,
            0.8769041120014088,
            0.8743506207625253,
            0.8756713920929823,
            0.8710927181473981,
            0.8784009861759268,
            0.8745267236065862
           ]
          ]
         },
         "header": {
          "values": [
           "0.10, 0.10",
           "0.50, 0.50",
           "1, 1"
          ]
         },
         "type": "table"
        }
       ],
       "layout": {
        "template": {
         "data": {
          "bar": [
           {
            "error_x": {
             "color": "#2a3f5f"
            },
            "error_y": {
             "color": "#2a3f5f"
            },
            "marker": {
             "line": {
              "color": "#E5ECF6",
              "width": 0.5
             },
             "pattern": {
              "fillmode": "overlay",
              "size": 10,
              "solidity": 0.2
             }
            },
            "type": "bar"
           }
          ],
          "barpolar": [
           {
            "marker": {
             "line": {
              "color": "#E5ECF6",
              "width": 0.5
             },
             "pattern": {
              "fillmode": "overlay",
              "size": 10,
              "solidity": 0.2
             }
            },
            "type": "barpolar"
           }
          ],
          "carpet": [
           {
            "aaxis": {
             "endlinecolor": "#2a3f5f",
             "gridcolor": "white",
             "linecolor": "white",
             "minorgridcolor": "white",
             "startlinecolor": "#2a3f5f"
            },
            "baxis": {
             "endlinecolor": "#2a3f5f",
             "gridcolor": "white",
             "linecolor": "white",
             "minorgridcolor": "white",
             "startlinecolor": "#2a3f5f"
            },
            "type": "carpet"
           }
          ],
          "choropleth": [
           {
            "colorbar": {
             "outlinewidth": 0,
             "ticks": ""
            },
            "type": "choropleth"
           }
          ],
          "contour": [
           {
            "colorbar": {
             "outlinewidth": 0,
             "ticks": ""
            },
            "colorscale": [
             [
              0,
              "#0d0887"
             ],
             [
              0.1111111111111111,
              "#46039f"
             ],
             [
              0.2222222222222222,
              "#7201a8"
             ],
             [
              0.3333333333333333,
              "#9c179e"
             ],
             [
              0.4444444444444444,
              "#bd3786"
             ],
             [
              0.5555555555555556,
              "#d8576b"
             ],
             [
              0.6666666666666666,
              "#ed7953"
             ],
             [
              0.7777777777777778,
              "#fb9f3a"
             ],
             [
              0.8888888888888888,
              "#fdca26"
             ],
             [
              1,
              "#f0f921"
             ]
            ],
            "type": "contour"
           }
          ],
          "contourcarpet": [
           {
            "colorbar": {
             "outlinewidth": 0,
             "ticks": ""
            },
            "type": "contourcarpet"
           }
          ],
          "heatmap": [
           {
            "colorbar": {
             "outlinewidth": 0,
             "ticks": ""
            },
            "colorscale": [
             [
              0,
              "#0d0887"
             ],
             [
              0.1111111111111111,
              "#46039f"
             ],
             [
              0.2222222222222222,
              "#7201a8"
             ],
             [
              0.3333333333333333,
              "#9c179e"
             ],
             [
              0.4444444444444444,
              "#bd3786"
             ],
             [
              0.5555555555555556,
              "#d8576b"
             ],
             [
              0.6666666666666666,
              "#ed7953"
             ],
             [
              0.7777777777777778,
              "#fb9f3a"
             ],
             [
              0.8888888888888888,
              "#fdca26"
             ],
             [
              1,
              "#f0f921"
             ]
            ],
            "type": "heatmap"
           }
          ],
          "heatmapgl": [
           {
            "colorbar": {
             "outlinewidth": 0,
             "ticks": ""
            },
            "colorscale": [
             [
              0,
              "#0d0887"
             ],
             [
              0.1111111111111111,
              "#46039f"
             ],
             [
              0.2222222222222222,
              "#7201a8"
             ],
             [
              0.3333333333333333,
              "#9c179e"
             ],
             [
              0.4444444444444444,
              "#bd3786"
             ],
             [
              0.5555555555555556,
              "#d8576b"
             ],
             [
              0.6666666666666666,
              "#ed7953"
             ],
             [
              0.7777777777777778,
              "#fb9f3a"
             ],
             [
              0.8888888888888888,
              "#fdca26"
             ],
             [
              1,
              "#f0f921"
             ]
            ],
            "type": "heatmapgl"
           }
          ],
          "histogram": [
           {
            "marker": {
             "pattern": {
              "fillmode": "overlay",
              "size": 10,
              "solidity": 0.2
             }
            },
            "type": "histogram"
           }
          ],
          "histogram2d": [
           {
            "colorbar": {
             "outlinewidth": 0,
             "ticks": ""
            },
            "colorscale": [
             [
              0,
              "#0d0887"
             ],
             [
              0.1111111111111111,
              "#46039f"
             ],
             [
              0.2222222222222222,
              "#7201a8"
             ],
             [
              0.3333333333333333,
              "#9c179e"
             ],
             [
              0.4444444444444444,
              "#bd3786"
             ],
             [
              0.5555555555555556,
              "#d8576b"
             ],
             [
              0.6666666666666666,
              "#ed7953"
             ],
             [
              0.7777777777777778,
              "#fb9f3a"
             ],
             [
              0.8888888888888888,
              "#fdca26"
             ],
             [
              1,
              "#f0f921"
             ]
            ],
            "type": "histogram2d"
           }
          ],
          "histogram2dcontour": [
           {
            "colorbar": {
             "outlinewidth": 0,
             "ticks": ""
            },
            "colorscale": [
             [
              0,
              "#0d0887"
             ],
             [
              0.1111111111111111,
              "#46039f"
             ],
             [
              0.2222222222222222,
              "#7201a8"
             ],
             [
              0.3333333333333333,
              "#9c179e"
             ],
             [
              0.4444444444444444,
              "#bd3786"
             ],
             [
              0.5555555555555556,
              "#d8576b"
             ],
             [
              0.6666666666666666,
              "#ed7953"
             ],
             [
              0.7777777777777778,
              "#fb9f3a"
             ],
             [
              0.8888888888888888,
              "#fdca26"
             ],
             [
              1,
              "#f0f921"
             ]
            ],
            "type": "histogram2dcontour"
           }
          ],
          "mesh3d": [
           {
            "colorbar": {
             "outlinewidth": 0,
             "ticks": ""
            },
            "type": "mesh3d"
           }
          ],
          "parcoords": [
           {
            "line": {
             "colorbar": {
              "outlinewidth": 0,
              "ticks": ""
             }
            },
            "type": "parcoords"
           }
          ],
          "pie": [
           {
            "automargin": true,
            "type": "pie"
           }
          ],
          "scatter": [
           {
            "marker": {
             "colorbar": {
              "outlinewidth": 0,
              "ticks": ""
             }
            },
            "type": "scatter"
           }
          ],
          "scatter3d": [
           {
            "line": {
             "colorbar": {
              "outlinewidth": 0,
              "ticks": ""
             }
            },
            "marker": {
             "colorbar": {
              "outlinewidth": 0,
              "ticks": ""
             }
            },
            "type": "scatter3d"
           }
          ],
          "scattercarpet": [
           {
            "marker": {
             "colorbar": {
              "outlinewidth": 0,
              "ticks": ""
             }
            },
            "type": "scattercarpet"
           }
          ],
          "scattergeo": [
           {
            "marker": {
             "colorbar": {
              "outlinewidth": 0,
              "ticks": ""
             }
            },
            "type": "scattergeo"
           }
          ],
          "scattergl": [
           {
            "marker": {
             "colorbar": {
              "outlinewidth": 0,
              "ticks": ""
             }
            },
            "type": "scattergl"
           }
          ],
          "scattermapbox": [
           {
            "marker": {
             "colorbar": {
              "outlinewidth": 0,
              "ticks": ""
             }
            },
            "type": "scattermapbox"
           }
          ],
          "scatterpolar": [
           {
            "marker": {
             "colorbar": {
              "outlinewidth": 0,
              "ticks": ""
             }
            },
            "type": "scatterpolar"
           }
          ],
          "scatterpolargl": [
           {
            "marker": {
             "colorbar": {
              "outlinewidth": 0,
              "ticks": ""
             }
            },
            "type": "scatterpolargl"
           }
          ],
          "scatterternary": [
           {
            "marker": {
             "colorbar": {
              "outlinewidth": 0,
              "ticks": ""
             }
            },
            "type": "scatterternary"
           }
          ],
          "surface": [
           {
            "colorbar": {
             "outlinewidth": 0,
             "ticks": ""
            },
            "colorscale": [
             [
              0,
              "#0d0887"
             ],
             [
              0.1111111111111111,
              "#46039f"
             ],
             [
              0.2222222222222222,
              "#7201a8"
             ],
             [
              0.3333333333333333,
              "#9c179e"
             ],
             [
              0.4444444444444444,
              "#bd3786"
             ],
             [
              0.5555555555555556,
              "#d8576b"
             ],
             [
              0.6666666666666666,
              "#ed7953"
             ],
             [
              0.7777777777777778,
              "#fb9f3a"
             ],
             [
              0.8888888888888888,
              "#fdca26"
             ],
             [
              1,
              "#f0f921"
             ]
            ],
            "type": "surface"
           }
          ],
          "table": [
           {
            "cells": {
             "fill": {
              "color": "#EBF0F8"
             },
             "line": {
              "color": "white"
             }
            },
            "header": {
             "fill": {
              "color": "#C8D4E3"
             },
             "line": {
              "color": "white"
             }
            },
            "type": "table"
           }
          ]
         },
         "layout": {
          "annotationdefaults": {
           "arrowcolor": "#2a3f5f",
           "arrowhead": 0,
           "arrowwidth": 1
          },
          "autotypenumbers": "strict",
          "coloraxis": {
           "colorbar": {
            "outlinewidth": 0,
            "ticks": ""
           }
          },
          "colorscale": {
           "diverging": [
            [
             0,
             "#8e0152"
            ],
            [
             0.1,
             "#c51b7d"
            ],
            [
             0.2,
             "#de77ae"
            ],
            [
             0.3,
             "#f1b6da"
            ],
            [
             0.4,
             "#fde0ef"
            ],
            [
             0.5,
             "#f7f7f7"
            ],
            [
             0.6,
             "#e6f5d0"
            ],
            [
             0.7,
             "#b8e186"
            ],
            [
             0.8,
             "#7fbc41"
            ],
            [
             0.9,
             "#4d9221"
            ],
            [
             1,
             "#276419"
            ]
           ],
           "sequential": [
            [
             0,
             "#0d0887"
            ],
            [
             0.1111111111111111,
             "#46039f"
            ],
            [
             0.2222222222222222,
             "#7201a8"
            ],
            [
             0.3333333333333333,
             "#9c179e"
            ],
            [
             0.4444444444444444,
             "#bd3786"
            ],
            [
             0.5555555555555556,
             "#d8576b"
            ],
            [
             0.6666666666666666,
             "#ed7953"
            ],
            [
             0.7777777777777778,
             "#fb9f3a"
            ],
            [
             0.8888888888888888,
             "#fdca26"
            ],
            [
             1,
             "#f0f921"
            ]
           ],
           "sequentialminus": [
            [
             0,
             "#0d0887"
            ],
            [
             0.1111111111111111,
             "#46039f"
            ],
            [
             0.2222222222222222,
             "#7201a8"
            ],
            [
             0.3333333333333333,
             "#9c179e"
            ],
            [
             0.4444444444444444,
             "#bd3786"
            ],
            [
             0.5555555555555556,
             "#d8576b"
            ],
            [
             0.6666666666666666,
             "#ed7953"
            ],
            [
             0.7777777777777778,
             "#fb9f3a"
            ],
            [
             0.8888888888888888,
             "#fdca26"
            ],
            [
             1,
             "#f0f921"
            ]
           ]
          },
          "colorway": [
           "#636efa",
           "#EF553B",
           "#00cc96",
           "#ab63fa",
           "#FFA15A",
           "#19d3f3",
           "#FF6692",
           "#B6E880",
           "#FF97FF",
           "#FECB52"
          ],
          "font": {
           "color": "#2a3f5f"
          },
          "geo": {
           "bgcolor": "white",
           "lakecolor": "white",
           "landcolor": "#E5ECF6",
           "showlakes": true,
           "showland": true,
           "subunitcolor": "white"
          },
          "hoverlabel": {
           "align": "left"
          },
          "hovermode": "closest",
          "mapbox": {
           "style": "light"
          },
          "paper_bgcolor": "white",
          "plot_bgcolor": "#E5ECF6",
          "polar": {
           "angularaxis": {
            "gridcolor": "white",
            "linecolor": "white",
            "ticks": ""
           },
           "bgcolor": "#E5ECF6",
           "radialaxis": {
            "gridcolor": "white",
            "linecolor": "white",
            "ticks": ""
           }
          },
          "scene": {
           "xaxis": {
            "backgroundcolor": "#E5ECF6",
            "gridcolor": "white",
            "gridwidth": 2,
            "linecolor": "white",
            "showbackground": true,
            "ticks": "",
            "zerolinecolor": "white"
           },
           "yaxis": {
            "backgroundcolor": "#E5ECF6",
            "gridcolor": "white",
            "gridwidth": 2,
            "linecolor": "white",
            "showbackground": true,
            "ticks": "",
            "zerolinecolor": "white"
           },
           "zaxis": {
            "backgroundcolor": "#E5ECF6",
            "gridcolor": "white",
            "gridwidth": 2,
            "linecolor": "white",
            "showbackground": true,
            "ticks": "",
            "zerolinecolor": "white"
           }
          },
          "shapedefaults": {
           "line": {
            "color": "#2a3f5f"
           }
          },
          "ternary": {
           "aaxis": {
            "gridcolor": "white",
            "linecolor": "white",
            "ticks": ""
           },
           "baxis": {
            "gridcolor": "white",
            "linecolor": "white",
            "ticks": ""
           },
           "bgcolor": "#E5ECF6",
           "caxis": {
            "gridcolor": "white",
            "linecolor": "white",
            "ticks": ""
           }
          },
          "title": {
           "x": 0.05
          },
          "xaxis": {
           "automargin": true,
           "gridcolor": "white",
           "linecolor": "white",
           "ticks": "",
           "title": {
            "standoff": 15
           },
           "zerolinecolor": "white",
           "zerolinewidth": 2
          },
          "yaxis": {
           "automargin": true,
           "gridcolor": "white",
           "linecolor": "white",
           "ticks": "",
           "title": {
            "standoff": 15
           },
           "zerolinecolor": "white",
           "zerolinewidth": 2
          }
         }
        }
       }
      },
      "text/html": [
       "<div>                            <div id=\"dbd0b237-6d09-4fdf-b586-d68f6d7e2117\" class=\"plotly-graph-div\" style=\"height:525px; width:100%;\"></div>            <script type=\"text/javascript\">                require([\"plotly\"], function(Plotly) {                    window.PLOTLYENV=window.PLOTLYENV || {};                                    if (document.getElementById(\"dbd0b237-6d09-4fdf-b586-d68f6d7e2117\")) {                    Plotly.newPlot(                        \"dbd0b237-6d09-4fdf-b586-d68f6d7e2117\",                        [{\"cells\":{\"values\":[[0.8579855608381758,0.8630040500088043,0.8599982389715594,0.8614951131460773,0.8634322444307475,0.8615831645681078,0.853306330897244,0.8592057761732852,0.8614951131460773,0.8622875759443515,0.8648529670716676,0.856929036802254,0.8620234216782601,0.859910187549529,0.8567403363564322,0.8619353702562297,0.8616712159901383,0.8593818790173461,0.8632561415866866,0.8563000792462798,0.8629160063391442,0.8613312202852615,0.8595579818614071,0.8570044906225236,0.8621995245223211,0.8612309588799859,0.8618473188341992,0.862375627366382,0.8611429074579554,0.8550673593378533],[0.8713681986265187,0.8713681986265187,0.8706524610372458,0.8782248833318658,0.8746147750286167,0.875055032138769,0.8681870212203927,0.8707405124592762,0.875055032138769,0.8739984150744035,0.8764747314668075,0.8689910195456947,0.8730298494320683,0.8727656951659769,0.8763758034692261,0.872413489477855,0.8761997006251651,0.8665140442018139,0.8734701065422207,0.8718851809456722,0.8745377707342842,0.8719845043141398,0.8687153297525755,0.8754072378268909,0.8764638548912564,0.8730298494320683,0.873910363652373,0.8731179008540988,0.8766399577353174,0.8742625693404948],[0.8747138580736045,0.876738862475788,0.8733820551201902,0.8801620146165361,0.8769921634234393,0.8769041120014088,0.8705644096152153,0.8764638548912564,0.8771682662675002,0.8768160605793783,0.8784116921993309,0.8720725479838,0.8761116492031347,0.8765519063132869,0.8759355463590737,0.8737342608083121,0.8764638548912564,0.8717971295236419,0.8784890375979572,0.8715329752575504,0.875594294770206,0.8762106004578271,0.875055032138769,0.8733820551201902,0.8769041120014088,0.8743506207625253,0.8756713920929823,0.8710927181473981,0.8784009861759268,0.8745267236065862]]},\"header\":{\"values\":[\"0.10, 0.10\",\"0.50, 0.50\",\"1, 1\"]},\"type\":\"table\"}],                        {\"template\":{\"data\":{\"bar\":[{\"error_x\":{\"color\":\"#2a3f5f\"},\"error_y\":{\"color\":\"#2a3f5f\"},\"marker\":{\"line\":{\"color\":\"#E5ECF6\",\"width\":0.5},\"pattern\":{\"fillmode\":\"overlay\",\"size\":10,\"solidity\":0.2}},\"type\":\"bar\"}],\"barpolar\":[{\"marker\":{\"line\":{\"color\":\"#E5ECF6\",\"width\":0.5},\"pattern\":{\"fillmode\":\"overlay\",\"size\":10,\"solidity\":0.2}},\"type\":\"barpolar\"}],\"carpet\":[{\"aaxis\":{\"endlinecolor\":\"#2a3f5f\",\"gridcolor\":\"white\",\"linecolor\":\"white\",\"minorgridcolor\":\"white\",\"startlinecolor\":\"#2a3f5f\"},\"baxis\":{\"endlinecolor\":\"#2a3f5f\",\"gridcolor\":\"white\",\"linecolor\":\"white\",\"minorgridcolor\":\"white\",\"startlinecolor\":\"#2a3f5f\"},\"type\":\"carpet\"}],\"choropleth\":[{\"colorbar\":{\"outlinewidth\":0,\"ticks\":\"\"},\"type\":\"choropleth\"}],\"contour\":[{\"colorbar\":{\"outlinewidth\":0,\"ticks\":\"\"},\"colorscale\":[[0.0,\"#0d0887\"],[0.1111111111111111,\"#46039f\"],[0.2222222222222222,\"#7201a8\"],[0.3333333333333333,\"#9c179e\"],[0.4444444444444444,\"#bd3786\"],[0.5555555555555556,\"#d8576b\"],[0.6666666666666666,\"#ed7953\"],[0.7777777777777778,\"#fb9f3a\"],[0.8888888888888888,\"#fdca26\"],[1.0,\"#f0f921\"]],\"type\":\"contour\"}],\"contourcarpet\":[{\"colorbar\":{\"outlinewidth\":0,\"ticks\":\"\"},\"type\":\"contourcarpet\"}],\"heatmap\":[{\"colorbar\":{\"outlinewidth\":0,\"ticks\":\"\"},\"colorscale\":[[0.0,\"#0d0887\"],[0.1111111111111111,\"#46039f\"],[0.2222222222222222,\"#7201a8\"],[0.3333333333333333,\"#9c179e\"],[0.4444444444444444,\"#bd3786\"],[0.5555555555555556,\"#d8576b\"],[0.6666666666666666,\"#ed7953\"],[0.7777777777777778,\"#fb9f3a\"],[0.8888888888888888,\"#fdca26\"],[1.0,\"#f0f921\"]],\"type\":\"heatmap\"}],\"heatmapgl\":[{\"colorbar\":{\"outlinewidth\":0,\"ticks\":\"\"},\"colorscale\":[[0.0,\"#0d0887\"],[0.1111111111111111,\"#46039f\"],[0.2222222222222222,\"#7201a8\"],[0.3333333333333333,\"#9c179e\"],[0.4444444444444444,\"#bd3786\"],[0.5555555555555556,\"#d8576b\"],[0.6666666666666666,\"#ed7953\"],[0.7777777777777778,\"#fb9f3a\"],[0.8888888888888888,\"#fdca26\"],[1.0,\"#f0f921\"]],\"type\":\"heatmapgl\"}],\"histogram\":[{\"marker\":{\"pattern\":{\"fillmode\":\"overlay\",\"size\":10,\"solidity\":0.2}},\"type\":\"histogram\"}],\"histogram2d\":[{\"colorbar\":{\"outlinewidth\":0,\"ticks\":\"\"},\"colorscale\":[[0.0,\"#0d0887\"],[0.1111111111111111,\"#46039f\"],[0.2222222222222222,\"#7201a8\"],[0.3333333333333333,\"#9c179e\"],[0.4444444444444444,\"#bd3786\"],[0.5555555555555556,\"#d8576b\"],[0.6666666666666666,\"#ed7953\"],[0.7777777777777778,\"#fb9f3a\"],[0.8888888888888888,\"#fdca26\"],[1.0,\"#f0f921\"]],\"type\":\"histogram2d\"}],\"histogram2dcontour\":[{\"colorbar\":{\"outlinewidth\":0,\"ticks\":\"\"},\"colorscale\":[[0.0,\"#0d0887\"],[0.1111111111111111,\"#46039f\"],[0.2222222222222222,\"#7201a8\"],[0.3333333333333333,\"#9c179e\"],[0.4444444444444444,\"#bd3786\"],[0.5555555555555556,\"#d8576b\"],[0.6666666666666666,\"#ed7953\"],[0.7777777777777778,\"#fb9f3a\"],[0.8888888888888888,\"#fdca26\"],[1.0,\"#f0f921\"]],\"type\":\"histogram2dcontour\"}],\"mesh3d\":[{\"colorbar\":{\"outlinewidth\":0,\"ticks\":\"\"},\"type\":\"mesh3d\"}],\"parcoords\":[{\"line\":{\"colorbar\":{\"outlinewidth\":0,\"ticks\":\"\"}},\"type\":\"parcoords\"}],\"pie\":[{\"automargin\":true,\"type\":\"pie\"}],\"scatter\":[{\"marker\":{\"colorbar\":{\"outlinewidth\":0,\"ticks\":\"\"}},\"type\":\"scatter\"}],\"scatter3d\":[{\"line\":{\"colorbar\":{\"outlinewidth\":0,\"ticks\":\"\"}},\"marker\":{\"colorbar\":{\"outlinewidth\":0,\"ticks\":\"\"}},\"type\":\"scatter3d\"}],\"scattercarpet\":[{\"marker\":{\"colorbar\":{\"outlinewidth\":0,\"ticks\":\"\"}},\"type\":\"scattercarpet\"}],\"scattergeo\":[{\"marker\":{\"colorbar\":{\"outlinewidth\":0,\"ticks\":\"\"}},\"type\":\"scattergeo\"}],\"scattergl\":[{\"marker\":{\"colorbar\":{\"outlinewidth\":0,\"ticks\":\"\"}},\"type\":\"scattergl\"}],\"scattermapbox\":[{\"marker\":{\"colorbar\":{\"outlinewidth\":0,\"ticks\":\"\"}},\"type\":\"scattermapbox\"}],\"scatterpolar\":[{\"marker\":{\"colorbar\":{\"outlinewidth\":0,\"ticks\":\"\"}},\"type\":\"scatterpolar\"}],\"scatterpolargl\":[{\"marker\":{\"colorbar\":{\"outlinewidth\":0,\"ticks\":\"\"}},\"type\":\"scatterpolargl\"}],\"scatterternary\":[{\"marker\":{\"colorbar\":{\"outlinewidth\":0,\"ticks\":\"\"}},\"type\":\"scatterternary\"}],\"surface\":[{\"colorbar\":{\"outlinewidth\":0,\"ticks\":\"\"},\"colorscale\":[[0.0,\"#0d0887\"],[0.1111111111111111,\"#46039f\"],[0.2222222222222222,\"#7201a8\"],[0.3333333333333333,\"#9c179e\"],[0.4444444444444444,\"#bd3786\"],[0.5555555555555556,\"#d8576b\"],[0.6666666666666666,\"#ed7953\"],[0.7777777777777778,\"#fb9f3a\"],[0.8888888888888888,\"#fdca26\"],[1.0,\"#f0f921\"]],\"type\":\"surface\"}],\"table\":[{\"cells\":{\"fill\":{\"color\":\"#EBF0F8\"},\"line\":{\"color\":\"white\"}},\"header\":{\"fill\":{\"color\":\"#C8D4E3\"},\"line\":{\"color\":\"white\"}},\"type\":\"table\"}]},\"layout\":{\"annotationdefaults\":{\"arrowcolor\":\"#2a3f5f\",\"arrowhead\":0,\"arrowwidth\":1},\"autotypenumbers\":\"strict\",\"coloraxis\":{\"colorbar\":{\"outlinewidth\":0,\"ticks\":\"\"}},\"colorscale\":{\"diverging\":[[0,\"#8e0152\"],[0.1,\"#c51b7d\"],[0.2,\"#de77ae\"],[0.3,\"#f1b6da\"],[0.4,\"#fde0ef\"],[0.5,\"#f7f7f7\"],[0.6,\"#e6f5d0\"],[0.7,\"#b8e186\"],[0.8,\"#7fbc41\"],[0.9,\"#4d9221\"],[1,\"#276419\"]],\"sequential\":[[0.0,\"#0d0887\"],[0.1111111111111111,\"#46039f\"],[0.2222222222222222,\"#7201a8\"],[0.3333333333333333,\"#9c179e\"],[0.4444444444444444,\"#bd3786\"],[0.5555555555555556,\"#d8576b\"],[0.6666666666666666,\"#ed7953\"],[0.7777777777777778,\"#fb9f3a\"],[0.8888888888888888,\"#fdca26\"],[1.0,\"#f0f921\"]],\"sequentialminus\":[[0.0,\"#0d0887\"],[0.1111111111111111,\"#46039f\"],[0.2222222222222222,\"#7201a8\"],[0.3333333333333333,\"#9c179e\"],[0.4444444444444444,\"#bd3786\"],[0.5555555555555556,\"#d8576b\"],[0.6666666666666666,\"#ed7953\"],[0.7777777777777778,\"#fb9f3a\"],[0.8888888888888888,\"#fdca26\"],[1.0,\"#f0f921\"]]},\"colorway\":[\"#636efa\",\"#EF553B\",\"#00cc96\",\"#ab63fa\",\"#FFA15A\",\"#19d3f3\",\"#FF6692\",\"#B6E880\",\"#FF97FF\",\"#FECB52\"],\"font\":{\"color\":\"#2a3f5f\"},\"geo\":{\"bgcolor\":\"white\",\"lakecolor\":\"white\",\"landcolor\":\"#E5ECF6\",\"showlakes\":true,\"showland\":true,\"subunitcolor\":\"white\"},\"hoverlabel\":{\"align\":\"left\"},\"hovermode\":\"closest\",\"mapbox\":{\"style\":\"light\"},\"paper_bgcolor\":\"white\",\"plot_bgcolor\":\"#E5ECF6\",\"polar\":{\"angularaxis\":{\"gridcolor\":\"white\",\"linecolor\":\"white\",\"ticks\":\"\"},\"bgcolor\":\"#E5ECF6\",\"radialaxis\":{\"gridcolor\":\"white\",\"linecolor\":\"white\",\"ticks\":\"\"}},\"scene\":{\"xaxis\":{\"backgroundcolor\":\"#E5ECF6\",\"gridcolor\":\"white\",\"gridwidth\":2,\"linecolor\":\"white\",\"showbackground\":true,\"ticks\":\"\",\"zerolinecolor\":\"white\"},\"yaxis\":{\"backgroundcolor\":\"#E5ECF6\",\"gridcolor\":\"white\",\"gridwidth\":2,\"linecolor\":\"white\",\"showbackground\":true,\"ticks\":\"\",\"zerolinecolor\":\"white\"},\"zaxis\":{\"backgroundcolor\":\"#E5ECF6\",\"gridcolor\":\"white\",\"gridwidth\":2,\"linecolor\":\"white\",\"showbackground\":true,\"ticks\":\"\",\"zerolinecolor\":\"white\"}},\"shapedefaults\":{\"line\":{\"color\":\"#2a3f5f\"}},\"ternary\":{\"aaxis\":{\"gridcolor\":\"white\",\"linecolor\":\"white\",\"ticks\":\"\"},\"baxis\":{\"gridcolor\":\"white\",\"linecolor\":\"white\",\"ticks\":\"\"},\"bgcolor\":\"#E5ECF6\",\"caxis\":{\"gridcolor\":\"white\",\"linecolor\":\"white\",\"ticks\":\"\"}},\"title\":{\"x\":0.05},\"xaxis\":{\"automargin\":true,\"gridcolor\":\"white\",\"linecolor\":\"white\",\"ticks\":\"\",\"title\":{\"standoff\":15},\"zerolinecolor\":\"white\",\"zerolinewidth\":2},\"yaxis\":{\"automargin\":true,\"gridcolor\":\"white\",\"linecolor\":\"white\",\"ticks\":\"\",\"title\":{\"standoff\":15},\"zerolinecolor\":\"white\",\"zerolinewidth\":2}}}},                        {\"responsive\": true}                    ).then(function(){\n",
       "                            \n",
       "var gd = document.getElementById('dbd0b237-6d09-4fdf-b586-d68f6d7e2117');\n",
       "var x = new MutationObserver(function (mutations, observer) {{\n",
       "        var display = window.getComputedStyle(gd).display;\n",
       "        if (!display || display === 'none') {{\n",
       "            console.log([gd, 'removed!']);\n",
       "            Plotly.purge(gd);\n",
       "            observer.disconnect();\n",
       "        }}\n",
       "}});\n",
       "\n",
       "// Listen for the removal of the full notebook cells\n",
       "var notebookContainer = gd.closest('#notebook-container');\n",
       "if (notebookContainer) {{\n",
       "    x.observe(notebookContainer, {childList: true});\n",
       "}}\n",
       "\n",
       "// Listen for the clearing of the current output cell\n",
       "var outputEl = gd.closest('.output');\n",
       "if (outputEl) {{\n",
       "    x.observe(outputEl, {childList: true});\n",
       "}}\n",
       "\n",
       "                        })                };                });            </script>        </div>"
      ]
     },
     "metadata": {},
     "output_type": "display_data"
    }
   ],
   "source": [
    "import plotly.graph_objects as go\n",
    "\n",
    "fig = go.Figure(data=[go.Table(header=dict(values=['0.10, 0.10', '0.50, 0.50','1, 1']),\n",
    "                 cells=dict(values=[results_c[0],results_c[49],results_c[99]]))\n",
    "                     ])\n",
    "fig.show()"
   ]
  },
  {
   "cell_type": "markdown",
   "id": "8b3a8484",
   "metadata": {},
   "source": [
    "#### Atributos más importantes\n",
    "\n",
    "Los atributos más importantes en los modelos resultantes son los siguientes:\n",
    "\n",
    "1. `SampleSize`: como se pudo observar en uno de los primeros *boxplots*, el la cantidad y el tamaño de la muestra para el modelo es extremadamente importante, donde mientras más muestras se tenga, más preciso puede llegar a ser el modelo.\n",
    "2. `FeatureSize`: similar a la variable anterior, permite encontrar correlaciones que puedan ayudar fuertemente a predecir la variable de respuesta.\n",
    "3. `LearningRate`: similar a las variables anteriores, aunque permite salirse de máximos locales que comúnmente serían encontrados con una tasa de aprendizaje pequeña.\n",
    "\n",
    "Todos estos atributos se comportan de forma muy similar a través de los algoritmos y validaciones que se vayan utilizando, donde los valores más altos permiten que el modelo haga mejores predicciones que si se tuvieran pequeños valores; estamos sacrificando velocidad por complejidad, para así convertir cada uno de los modelos en lo más precisos que pueden ser."
   ]
  }
 ],
 "metadata": {
  "kernelspec": {
   "display_name": "Python 3",
   "language": "python",
   "name": "python3"
  },
  "language_info": {
   "codemirror_mode": {
    "name": "ipython",
    "version": 3
   },
   "file_extension": ".py",
   "mimetype": "text/x-python",
   "name": "python",
   "nbconvert_exporter": "python",
   "pygments_lexer": "ipython3",
   "version": "3.8.8"
  }
 },
 "nbformat": 4,
 "nbformat_minor": 5
}
