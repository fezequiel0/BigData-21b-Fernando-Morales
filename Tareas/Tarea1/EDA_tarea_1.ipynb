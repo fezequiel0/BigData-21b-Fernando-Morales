{
 "cells": [
  {
   "cell_type": "markdown",
   "id": "76494e9f",
   "metadata": {},
   "source": [
    "## Tarea 1 \n",
    "#### Fernando Morales B85338\n",
    "#### Análisis exploratorio de datos"
   ]
  },
  {
   "cell_type": "markdown",
   "id": "7e3b3617",
   "metadata": {},
   "source": [
    "Para el análisis exploratorio de datos se utilizarán las siguientes 3 técnicas:\n",
    "\n",
    "- **Estadística descriptiva:** es una técnica que plantea revisar, para las columnas que lo permitan, un resumen de 5 números: mínimo, primer cuartil, mediana, tercer cuartil y el máximo.\n",
    "- **Particionamiento de clases**: es una técnca que decide partir el set de datos en categorías, por ejemplo: edad, sexo, ubicación, etc.\n",
    "- **Visualización:** es una técnica que permite observar diferentes comportamientos a través de material visual, sean gráficos de todo tipo, imágenes que ayuden a explicar el *set de datos*, entre otros.\n",
    "\n",
    "##### Inicio de EDA\n",
    "\n",
    "Teniendo en mente las siguientes 3 preguntas:\n",
    "\n",
    "- ¿Cuál es el país cuyo índice de obesidad ha aumentado porcentualmente más en hombres desde el 2006 hasta el 2016?\n",
    "- ¿Cuál es el país con el índice promedio de obesidad menor para ambos sexos  entre el 2006 hasta el 2016?\n",
    "- ¿Cuál es el país con el índice promedio de obesidad mayor en mujeres entre el 2006 hasta el 2016?\n",
    "\n",
    "Empezaremos viendo la forma de los datos y del set de datos en general:"
   ]
  },
  {
   "cell_type": "code",
   "execution_count": 11,
   "id": "10ad6894",
   "metadata": {},
   "outputs": [
    {
     "data": {
      "text/html": [
       "<div>\n",
       "<style scoped>\n",
       "    .dataframe tbody tr th:only-of-type {\n",
       "        vertical-align: middle;\n",
       "    }\n",
       "\n",
       "    .dataframe tbody tr th {\n",
       "        vertical-align: top;\n",
       "    }\n",
       "\n",
       "    .dataframe thead th {\n",
       "        text-align: right;\n",
       "    }\n",
       "</style>\n",
       "<table border=\"1\" class=\"dataframe\">\n",
       "  <thead>\n",
       "    <tr style=\"text-align: right;\">\n",
       "      <th></th>\n",
       "      <th>Country</th>\n",
       "      <th>Year</th>\n",
       "      <th>Sex</th>\n",
       "      <th>Index average</th>\n",
       "      <th>Index Intervals</th>\n",
       "    </tr>\n",
       "  </thead>\n",
       "  <tbody>\n",
       "    <tr>\n",
       "      <th>0</th>\n",
       "      <td>Afghanistan</td>\n",
       "      <td>2016</td>\n",
       "      <td>Both</td>\n",
       "      <td>5.5</td>\n",
       "      <td>[3.4-8.1]</td>\n",
       "    </tr>\n",
       "    <tr>\n",
       "      <th>1</th>\n",
       "      <td>Afghanistan</td>\n",
       "      <td>2016</td>\n",
       "      <td>Male</td>\n",
       "      <td>3.2</td>\n",
       "      <td>[1.3-6.4]</td>\n",
       "    </tr>\n",
       "    <tr>\n",
       "      <th>2</th>\n",
       "      <td>Afghanistan</td>\n",
       "      <td>2016</td>\n",
       "      <td>Female</td>\n",
       "      <td>7.6</td>\n",
       "      <td>[4.3-12.4]</td>\n",
       "    </tr>\n",
       "    <tr>\n",
       "      <th>3</th>\n",
       "      <td>Afghanistan</td>\n",
       "      <td>2015</td>\n",
       "      <td>Both</td>\n",
       "      <td>5.2</td>\n",
       "      <td>[3.3-7.7]</td>\n",
       "    </tr>\n",
       "    <tr>\n",
       "      <th>4</th>\n",
       "      <td>Afghanistan</td>\n",
       "      <td>2015</td>\n",
       "      <td>Male</td>\n",
       "      <td>3.0</td>\n",
       "      <td>[1.3-6.0]</td>\n",
       "    </tr>\n",
       "    <tr>\n",
       "      <th>...</th>\n",
       "      <td>...</td>\n",
       "      <td>...</td>\n",
       "      <td>...</td>\n",
       "      <td>...</td>\n",
       "      <td>...</td>\n",
       "    </tr>\n",
       "    <tr>\n",
       "      <th>6298</th>\n",
       "      <td>Zimbabwe</td>\n",
       "      <td>2007</td>\n",
       "      <td>Male</td>\n",
       "      <td>3.3</td>\n",
       "      <td>[1.9-5.4]</td>\n",
       "    </tr>\n",
       "    <tr>\n",
       "      <th>6299</th>\n",
       "      <td>Zimbabwe</td>\n",
       "      <td>2007</td>\n",
       "      <td>Female</td>\n",
       "      <td>21.3</td>\n",
       "      <td>[16.6-26.6]</td>\n",
       "    </tr>\n",
       "    <tr>\n",
       "      <th>6300</th>\n",
       "      <td>Zimbabwe</td>\n",
       "      <td>2006</td>\n",
       "      <td>Both</td>\n",
       "      <td>12.5</td>\n",
       "      <td>[10.0-15.4]</td>\n",
       "    </tr>\n",
       "    <tr>\n",
       "      <th>6301</th>\n",
       "      <td>Zimbabwe</td>\n",
       "      <td>2006</td>\n",
       "      <td>Male</td>\n",
       "      <td>3.2</td>\n",
       "      <td>[1.8-5.3]</td>\n",
       "    </tr>\n",
       "    <tr>\n",
       "      <th>6302</th>\n",
       "      <td>Zimbabwe</td>\n",
       "      <td>2006</td>\n",
       "      <td>Female</td>\n",
       "      <td>20.9</td>\n",
       "      <td>[16.3-26.2]</td>\n",
       "    </tr>\n",
       "  </tbody>\n",
       "</table>\n",
       "<p>6303 rows × 5 columns</p>\n",
       "</div>"
      ],
      "text/plain": [
       "          Country  Year     Sex  Index average Index Intervals\n",
       "0     Afghanistan  2016    Both            5.5       [3.4-8.1]\n",
       "1     Afghanistan  2016    Male            3.2       [1.3-6.4]\n",
       "2     Afghanistan  2016  Female            7.6      [4.3-12.4]\n",
       "3     Afghanistan  2015    Both            5.2       [3.3-7.7]\n",
       "4     Afghanistan  2015    Male            3.0       [1.3-6.0]\n",
       "...           ...   ...     ...            ...             ...\n",
       "6298     Zimbabwe  2007    Male            3.3       [1.9-5.4]\n",
       "6299     Zimbabwe  2007  Female           21.3     [16.6-26.6]\n",
       "6300     Zimbabwe  2006    Both           12.5     [10.0-15.4]\n",
       "6301     Zimbabwe  2006    Male            3.2       [1.8-5.3]\n",
       "6302     Zimbabwe  2006  Female           20.9     [16.3-26.2]\n",
       "\n",
       "[6303 rows x 5 columns]"
      ]
     },
     "execution_count": 11,
     "metadata": {},
     "output_type": "execute_result"
    }
   ],
   "source": [
    "# special IPython command to prepare the notebook for matplotlib\n",
    "%matplotlib inline \n",
    "\n",
    "import pandas as pd\n",
    "import matplotlib.pyplot as plt\n",
    "import numpy as np\n",
    "\n",
    "# pd.options.display.mpl_style = 'default'\n",
    "plt.style.use('seaborn-whitegrid')\n",
    "\n",
    "url = './clean_data.csv'\n",
    "obesity_index = pd.read_csv(url, sep=',')\n",
    "\n",
    "obesity_index"
   ]
  },
  {
   "cell_type": "markdown",
   "id": "e1581e9e",
   "metadata": {},
   "source": [
    "Podemos observar que tenemos 5 columnas, donde las columnas `Country`, `Year` y `Sex` son categóricas, mientras que `Index average` y `Index intervals` son numéricas. Para nuestras preguntas de investigación, la columna `Index intervals` no tiene relevancia.\n",
    "\n",
    "Siguiente, vamos a utilizar la **estadística descriptiva** para observar el comportamiento de la columna `Index intervals`:"
   ]
  },
  {
   "cell_type": "code",
   "execution_count": 13,
   "id": "f7161dad",
   "metadata": {},
   "outputs": [
    {
     "data": {
      "text/plain": [
       "count    6303.000000\n",
       "mean       17.764160\n",
       "std        11.576327\n",
       "min         0.600000\n",
       "25%         7.800000\n",
       "50%        18.000000\n",
       "75%        23.700000\n",
       "max        63.300000\n",
       "Name: Index average, dtype: float64"
      ]
     },
     "execution_count": 13,
     "metadata": {},
     "output_type": "execute_result"
    }
   ],
   "source": [
    "obesity_index['Index average'].describe()"
   ]
  },
  {
   "cell_type": "markdown",
   "id": "5d48cd4d",
   "metadata": {},
   "source": [
    "Podemos observar cómo, entre el tercer cuartil y el máximo existe una gran separación del valor de los índices, mientras que podemos ver que la gran mayoría de los valores se encuentran alrededor de `18`.\n",
    "\n",
    "Una vez realizado esto, usaremos la técnica de **visualización** para observar cómo se comporta esta variable con respecto a las demás variables y ver cómo, a través de los años, cambia la variable para un determinado país:"
   ]
  },
  {
   "cell_type": "code",
   "execution_count": 30,
   "id": "f410a55e",
   "metadata": {
    "scrolled": false
   },
   "outputs": [
    {
     "data": {
      "image/png": "[encoded data removed]",
      "text/plain": [
       "<Figure size 1080x1080 with 4 Axes>"
      ]
     },
     "metadata": {},
     "output_type": "display_data"
    }
   ],
   "source": [
    "countries = obesity_index['Country'].unique()\n",
    "\n",
    "for country in countries:\n",
    "    #country_info = obesity_index.loc[obesity_index['Country'] == country].plot(x = 'Year', y = 'Index average')\n",
    "    country_info = obesity_index.loc[obesity_index['Country'] == country]\n",
    "    country_info_both_sexes = country_info.loc[country_info['Sex'] == 'Both']\n",
    "    country_info_male = country_info.loc[country_info['Sex'] == 'Male']\n",
    "    country_info_female = country_info.loc[country_info['Sex'] == 'Female']\n",
    "    if(country == 'Argentina'): \n",
    "        figure, axis = plt.subplots(2,2)\n",
    "        axis[0,0].scatter(country_info_both_sexes['Year'], country_info_both_sexes['Index average'], c='red')\n",
    "        axis[0,1].scatter(country_info_male['Year'], country_info_male['Index average'], c='blue')\n",
    "        axis[1,0].scatter(country_info_female['Year'], country_info_female['Index average'], c='green')\n",
    "        axis[1,1].scatter(country_info_both_sexes['Year'], country_info_both_sexes['Index average'], c='red')\n",
    "        axis[1,1].scatter(country_info_male['Year'], country_info_male['Index average'], c='blue')\n",
    "        axis[1,1].scatter(country_info_female['Year'], country_info_female['Index average'], c='green')\n",
    "        figure.text(0.5, 0.1, 'Years', ha='center')\n",
    "        figure.text(0.1, 0.5, 'Obesity index', va='center', rotation='vertical')\n",
    "        figure.set_figheight(15)\n",
    "        figure.set_figwidth(15)\n",
    "        plt.show()          \n",
    "        "
   ]
  },
  {
   "cell_type": "markdown",
   "id": "5ba94501",
   "metadata": {},
   "source": [
    "Como se puede observar en los gráficos, se nota que el índice de obesidad promedia va aumentando a través de los años, sin importar el sexo. De igual forma, parecen tener una pendiente muy similar entre todas las categorías de sexo. \n",
    "\n",
    "#### Pregunta 1\n",
    "\n",
    "Para responder la primer pregunta de investigación, se filtró el *dataset* por el sexo correspondiente para cada uno de los países, a través de la técnica de **particionamiento de clases**. Luego, se calculó el porcentaje de aumento del índice de obesidad en 2006 a 2016 y se fue seleccionando el mayor aumento."
   ]
  },
  {
   "cell_type": "code",
   "execution_count": 16,
   "id": "ef241d46",
   "metadata": {},
   "outputs": [
    {
     "name": "stdout",
     "output_type": "stream",
     "text": [
      "The country with the biggest obesity index increase is Viet Nam with a percent increase of 166.66666666666669%\n",
      "Viet Nam's 2006 obesity index for both sexes was: 0.6\n",
      "Viet Nam's 2016 obesity index for both sexes was: 1.6\n"
     ]
    },
    {
     "data": {
      "image/png": "[encoded data removed]",
      "text/plain": [
       "<Figure size 432x288 with 1 Axes>"
      ]
     },
     "metadata": {},
     "output_type": "display_data"
    }
   ],
   "source": [
    "max_country = countries[0]\n",
    "max_percent = 0\n",
    "max_2006 = 0\n",
    "max_2016 = 0\n",
    "max_country_info = []\n",
    "for country in countries:\n",
    "    country_info = obesity_index.loc[obesity_index['Country'] == country]\n",
    "    country_info_male = country_info.loc[country_info['Sex'] == 'Male']\n",
    "    country_info_male_2006 = country_info_male.loc[country_info_male['Year'] == 2006]['Index average']\n",
    "    country_info_male_2016 = country_info_male.loc[country_info_male['Year'] == 2016]['Index average']\n",
    "    number_2006 = country_info_male_2006.sum()\n",
    "    number_2016 = country_info_male_2016.sum()\n",
    "    percent = ((number_2016 - number_2006)/number_2006)*100\n",
    "    if percent > max_percent:\n",
    "        max_country = country\n",
    "        max_percent = percent\n",
    "        max_2006 = number_2006\n",
    "        max_2016 = number_2016        \n",
    "        max_country_info = country_info_male\n",
    "print('The country with the biggest obesity index increase is ' + max_country + ' with a percent increase of {0}'.format(max_percent) + '%')\n",
    "print(max_country + '\\'s 2006 obesity index for both sexes was: {0}'.format(max_2006))\n",
    "print(max_country + '\\'s 2016 obesity index for both sexes was: {0}'.format(max_2016))  \n",
    "\n",
    "plt.plot(max_country_info['Year'],\n",
    "         max_country_info['Index average'], 'ro')\n",
    "plt.xlim(2006,2016);\n",
    "plt.xticks(range(2005,2018))\n",
    "plt.yticks(np.arange(0.5,1.7,0.1))\n",
    "plt.xlabel('Years')\n",
    "plt.ylabel('Obesity index')\n",
    "plt.show()\n"
   ]
  },
  {
   "cell_type": "markdown",
   "id": "5e5f625b",
   "metadata": {},
   "source": [
    "Se puede observar que, a pesar de que, comparativamente, el aumento de índice de Vietnam fue pequeño, como Vietnam ya tenía un índice pequeño, el aumento porcentual es realmente grande relativamente. El gráfico ayuda a ver este crecimiento a través de los años. \n",
    "\n",
    "#### Pregunta 2\n",
    "\n",
    "Para responder la segunda pregunta de investigación, se llevó a cabo un proceso muy similar al de la pregunta 1, usando ambas técnicas de **visualización** y **particionamiento de clases**: se filtró por el sexo para cada país, para luego obtener todos los valores de índices de obesidad a través de los años y calcular su promedio. Una vez obtenido el promedio, se compara con el país previamente escogido y, de ser menor, se guarda el valor correspondiente. \n"
   ]
  },
  {
   "cell_type": "code",
   "execution_count": 17,
   "id": "f0a726c5",
   "metadata": {},
   "outputs": [
    {
     "name": "stdout",
     "output_type": "stream",
     "text": [
      "The country with the lowest average obesity index for both sexes is Viet Nam with the smallest obesity index average of 1.518181818181818.\n"
     ]
    },
    {
     "data": {
      "image/png": "[encoded data removed]",
      "text/plain": [
       "<Figure size 432x288 with 1 Axes>"
      ]
     },
     "metadata": {},
     "output_type": "display_data"
    }
   ],
   "source": [
    "min_country = countries[0]\n",
    "min_average = 100\n",
    "min_country_info = []\n",
    "year_count = obesity_index['Year'].unique().size\n",
    "for country in countries:\n",
    "    country_info = obesity_index.loc[obesity_index['Country'] == country]\n",
    "    country_info_male = country_info.loc[country_info['Sex'] == 'Both']\n",
    "    average_sum = 0\n",
    "    for average in country_info_male['Index average']:\n",
    "        average_sum += average\n",
    "    average_sum /= year_count\n",
    "    if average_sum < min_average:\n",
    "            min_country = country\n",
    "            min_average = average_sum\n",
    "            min_country_info = country_info_male\n",
    "print('The country with the lowest average obesity index for both sexes is ' + min_country + ' with the smallest obesity index average of {0}'.format(min_average) + '.')\n",
    "\n",
    "plt.plot(min_country_info['Year'],\n",
    "         min_country_info['Index average'], 'bo')\n",
    "plt.xlim(2006,2016);\n",
    "plt.xticks(range(2005,2018))\n",
    "plt.yticks(np.arange(1.0,2.2,0.1))\n",
    "plt.xlabel('Years')\n",
    "plt.ylabel('Obesity index')\n",
    "plt.show()\n"
   ]
  },
  {
   "cell_type": "markdown",
   "id": "aa46d427",
   "metadata": {},
   "source": [
    "Al igual que la primera pregunta, Vietnam es el país con el menor índice promedio de obesidad para ambos sexos. En el gráfico, podemos observar que el mínimo índice de obesidad fue `1.0` en el 2006 y `2.1` fue el máximo en el 2016.\n",
    "\n",
    "#### Pregunta 3\n",
    "\n",
    "Similar a las primeras dos preguntas, se usaron las técnicas de **visualización** y **particionamiento de clases** para responderla: se filtra para cada país por el sexo correspondiente, para luego obtener los índices de obesidad de cada año. Estos son usados para calcular el promedio a través de la década y se busca el país con el mayor promedio de índice de obesidad en mujeres."
   ]
  },
  {
   "cell_type": "code",
   "execution_count": 59,
   "id": "167105b1",
   "metadata": {},
   "outputs": [
    {
     "name": "stdout",
     "output_type": "stream",
     "text": [
      "The country with the highest average obesity index on females is Nauru with the greatest obesity index average of 62.118181818181824.\n"
     ]
    },
    {
     "data": {
      "image/png": "[encoded data removed]",
      "text/plain": [
       "<Figure size 432x288 with 1 Axes>"
      ]
     },
     "metadata": {},
     "output_type": "display_data"
    }
   ],
   "source": [
    "## pregunta 3\n",
    "#- Cuál es el país con el índice promedio de obesidad mayor en mujeres entre el 2006 hasta el 2016?\n",
    "\n",
    "max_country = countries[0]\n",
    "max_average = 0\n",
    "max_country_info = []\n",
    "year_count = obesity_index['Year'].unique().size\n",
    "for country in countries:\n",
    "    country_info = obesity_index.loc[obesity_index['Country'] == country]\n",
    "    country_info_female = country_info.loc[country_info['Sex'] == 'Female']\n",
    "    average_sum = 0\n",
    "    for average in country_info_female['Index average']:\n",
    "        average_sum += average\n",
    "    average_sum /= year_count\n",
    "    if average_sum > max_average:\n",
    "            max_country = country\n",
    "            max_average = average_sum\n",
    "            max_country_info = country_info_female\n",
    "print('The country with the highest average obesity index on females is ' + max_country + ' with the greatest obesity index average of {0}'.format(max_average) + '.')\n",
    "\n",
    "plt.plot(max_country_info['Year'],\n",
    "         max_country_info['Index average'], 'go')\n",
    "plt.xlim(2006,2016);\n",
    "plt.xticks(range(2005,2018))\n",
    "plt.yticks(np.arange(61,64.0,0.5))\n",
    "plt.xlabel('Years')\n",
    "plt.ylabel('Obesity index')\n",
    "plt.show()\n"
   ]
  },
  {
   "cell_type": "markdown",
   "id": "1cd1b8e3",
   "metadata": {},
   "source": [
    "`Nauru` fue el país con mayor índice de obesidad en mujeres en la década correspondiente, con un promedio de `62.12`. Podemos observar como, en la gráfica, más del 60% de mujeres son clasificadas como obesas en todos los años donde se esté aplicando este estudio.\n",
    "\n",
    "#### Atributos problemáticos\n",
    "\n",
    "El atributo compuesto `Index intervals` realmente es el atributo que no aporta mucho a la investigación. Está compuesto por dos atributos: \n",
    "\n",
    "- *Minimum obesity index*\n",
    "- *Maximum obesity index*\n",
    "\n",
    "A pesar de esto, no significa que estos atributos no tengan valor; si no que en el contexto de estas preguntas de investigación, no aportan ninguna información que ayude a contestar las preguntas.\n",
    "\n",
    "En comparación, todos los demás atributos son vitales para responder las preguntas de investigación, ya que los categóricos permiten la organización de los datos, mientras que la columna `Index average` contiene el dato pivotal de este *dataset*."
   ]
  }
 ],
 "metadata": {
  "interpreter": {
   "hash": "86e92382a1fa765cb20047d61a4f06008cf6bc0c1f201be4b27d4215c7d3437f"
  },
  "kernelspec": {
   "display_name": "Python 3",
   "language": "python",
   "name": "python3"
  },
  "language_info": {
   "codemirror_mode": {
    "name": "ipython",
    "version": 3
   },
   "file_extension": ".py",
   "mimetype": "text/x-python",
   "name": "python",
   "nbconvert_exporter": "python",
   "pygments_lexer": "ipython3",
   "version": "3.8.8"
  }
 },
 "nbformat": 4,
 "nbformat_minor": 5
}
