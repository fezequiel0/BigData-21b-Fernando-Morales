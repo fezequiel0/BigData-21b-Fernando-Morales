{
 "cells": [
  {
   "cell_type": "markdown",
   "source": [
    "## How to Use Feature Extraction on Tabular Data for Machine Learning\n",
    "\n",
    "### Wine classification dataset"
   ],
   "metadata": {}
  },
  {
   "cell_type": "code",
   "execution_count": 1,
   "source": [
    "# example of loading and summarizing the wine dataset\r\n",
    "from pandas import read_csv\r\n",
    "# define the location of the dataset\r\n",
    "url = 'https://raw.githubusercontent.com/jbrownlee/Datasets/master/wine.csv'\r\n",
    "# load the dataset as a data frame\r\n",
    "df = read_csv(url, header=None)\r\n",
    "# retrieve the numpy array\r\n",
    "data = df.values\r\n",
    "# split the columns into input and output variables\r\n",
    "X, y = data[:, :-1], data[:, -1]\r\n",
    "# summarize the shape of the loaded data\r\n",
    "print(X.shape, y.shape)"
   ],
   "outputs": [
    {
     "output_type": "stream",
     "name": "stdout",
     "text": [
      "(178, 13) (178,)\n"
     ]
    }
   ],
   "metadata": {}
  },
  {
   "cell_type": "markdown",
   "source": [
    "### Baseline model performance"
   ],
   "metadata": {}
  },
  {
   "cell_type": "code",
   "execution_count": 2,
   "source": [
    "# baseline model performance on the wine dataset\r\n",
    "from numpy import mean\r\n",
    "from numpy import std\r\n",
    "from pandas import read_csv\r\n",
    "from sklearn.preprocessing import LabelEncoder\r\n",
    "from sklearn.model_selection import RepeatedStratifiedKFold\r\n",
    "from sklearn.model_selection import cross_val_score\r\n",
    "from sklearn.linear_model import LogisticRegression\r\n",
    "# load the dataset\r\n",
    "url = 'https://raw.githubusercontent.com/jbrownlee/Datasets/master/wine.csv'\r\n",
    "df = read_csv(url, header=None)\r\n",
    "data = df.values\r\n",
    "X, y = data[:, :-1], data[:, -1]\r\n",
    "# minimally prepare dataset\r\n",
    "X = X.astype('float')\r\n",
    "y = LabelEncoder().fit_transform(y.astype('str'))\r\n",
    "# define the model\r\n",
    "model = LogisticRegression(solver='liblinear')\r\n",
    "# define the cross-validation procedure\r\n",
    "cv = RepeatedStratifiedKFold(n_splits=10, n_repeats=3, random_state=1)\r\n",
    "# evaluate model\r\n",
    "scores = cross_val_score(model, X, y, scoring='accuracy', cv=cv, n_jobs=-1)\r\n",
    "# report performance\r\n",
    "print('Accuracy: %.3f (%.3f)' % (mean(scores), std(scores)))"
   ],
   "outputs": [
    {
     "output_type": "stream",
     "name": "stdout",
     "text": [
      "Accuracy: 0.953 (0.048)\n"
     ]
    }
   ],
   "metadata": {}
  },
  {
   "cell_type": "markdown",
   "source": [
    "### Feature extraction approach to data preparation"
   ],
   "metadata": {}
  },
  {
   "cell_type": "code",
   "execution_count": 3,
   "source": [
    "# data preparation as feature engineering for wine dataset\r\n",
    "from numpy import mean\r\n",
    "from numpy import std\r\n",
    "from pandas import read_csv\r\n",
    "from sklearn.model_selection import RepeatedStratifiedKFold\r\n",
    "from sklearn.model_selection import cross_val_score\r\n",
    "from sklearn.linear_model import LogisticRegression\r\n",
    "from sklearn.pipeline import Pipeline\r\n",
    "from sklearn.pipeline import FeatureUnion\r\n",
    "from sklearn.preprocessing import LabelEncoder\r\n",
    "from sklearn.preprocessing import MinMaxScaler\r\n",
    "from sklearn.preprocessing import StandardScaler\r\n",
    "from sklearn.preprocessing import RobustScaler\r\n",
    "from sklearn.preprocessing import QuantileTransformer\r\n",
    "from sklearn.preprocessing import KBinsDiscretizer\r\n",
    "from sklearn.decomposition import PCA\r\n",
    "from sklearn.decomposition import TruncatedSVD\r\n",
    "# load the dataset\r\n",
    "url = 'https://raw.githubusercontent.com/jbrownlee/Datasets/master/wine.csv'\r\n",
    "df = read_csv(url, header=None)\r\n",
    "data = df.values\r\n",
    "X, y = data[:, :-1], data[:, -1]\r\n",
    "# minimally prepare dataset\r\n",
    "X = X.astype('float')\r\n",
    "y = LabelEncoder().fit_transform(y.astype('str'))\r\n",
    "# transforms for the feature union\r\n",
    "transforms = list()\r\n",
    "transforms.append(('mms', MinMaxScaler()))\r\n",
    "transforms.append(('ss', StandardScaler()))\r\n",
    "transforms.append(('rs', RobustScaler()))\r\n",
    "transforms.append(('qt', QuantileTransformer(n_quantiles=100, output_distribution='normal')))\r\n",
    "transforms.append(('kbd', KBinsDiscretizer(n_bins=10, encode='ordinal', strategy='uniform')))\r\n",
    "transforms.append(('pca', PCA(n_components=7)))\r\n",
    "transforms.append(('svd', TruncatedSVD(n_components=7)))\r\n",
    "# create the feature union\r\n",
    "fu = FeatureUnion(transforms)\r\n",
    "# define the model\r\n",
    "model = LogisticRegression(solver='liblinear')\r\n",
    "# define the pipeline\r\n",
    "steps = list()\r\n",
    "steps.append(('fu', fu))\r\n",
    "steps.append(('m', model))\r\n",
    "pipeline = Pipeline(steps=steps)\r\n",
    "# define the cross-validation procedure\r\n",
    "cv = RepeatedStratifiedKFold(n_splits=10, n_repeats=3, random_state=1)\r\n",
    "# evaluate model\r\n",
    "scores = cross_val_score(pipeline, X, y, scoring='accuracy', cv=cv, n_jobs=-1)\r\n",
    "# report performance\r\n",
    "print('Accuracy: %.3f (%.3f)' % (mean(scores), std(scores)))"
   ],
   "outputs": [
    {
     "output_type": "stream",
     "name": "stdout",
     "text": [
      "Accuracy: 0.968 (0.037)\n"
     ]
    }
   ],
   "metadata": {}
  },
  {
   "cell_type": "markdown",
   "source": [
    "#### Better results"
   ],
   "metadata": {}
  },
  {
   "cell_type": "code",
   "execution_count": 4,
   "source": [
    "# data preparation as feature engineering with feature selection for wine dataset\r\n",
    "from numpy import mean\r\n",
    "from numpy import std\r\n",
    "from pandas import read_csv\r\n",
    "from sklearn.model_selection import RepeatedStratifiedKFold\r\n",
    "from sklearn.model_selection import cross_val_score\r\n",
    "from sklearn.linear_model import LogisticRegression\r\n",
    "from sklearn.pipeline import Pipeline\r\n",
    "from sklearn.pipeline import FeatureUnion\r\n",
    "from sklearn.preprocessing import LabelEncoder\r\n",
    "from sklearn.preprocessing import MinMaxScaler\r\n",
    "from sklearn.preprocessing import StandardScaler\r\n",
    "from sklearn.preprocessing import RobustScaler\r\n",
    "from sklearn.preprocessing import QuantileTransformer\r\n",
    "from sklearn.preprocessing import KBinsDiscretizer\r\n",
    "from sklearn.feature_selection import RFE\r\n",
    "from sklearn.decomposition import PCA\r\n",
    "from sklearn.decomposition import TruncatedSVD\r\n",
    "# load the dataset\r\n",
    "url = 'https://raw.githubusercontent.com/jbrownlee/Datasets/master/wine.csv'\r\n",
    "df = read_csv(url, header=None)\r\n",
    "data = df.values\r\n",
    "X, y = data[:, :-1], data[:, -1]\r\n",
    "# minimally prepare dataset\r\n",
    "X = X.astype('float')\r\n",
    "y = LabelEncoder().fit_transform(y.astype('str'))\r\n",
    "# transforms for the feature union\r\n",
    "transforms = list()\r\n",
    "transforms.append(('mms', MinMaxScaler()))\r\n",
    "transforms.append(('ss', StandardScaler()))\r\n",
    "transforms.append(('rs', RobustScaler()))\r\n",
    "transforms.append(('qt', QuantileTransformer(n_quantiles=100, output_distribution='normal')))\r\n",
    "transforms.append(('kbd', KBinsDiscretizer(n_bins=10, encode='ordinal', strategy='uniform')))\r\n",
    "transforms.append(('pca', PCA(n_components=7)))\r\n",
    "transforms.append(('svd', TruncatedSVD(n_components=7)))\r\n",
    "# create the feature union\r\n",
    "fu = FeatureUnion(transforms)\r\n",
    "# define the feature selection\r\n",
    "rfe = RFE(estimator=LogisticRegression(solver='liblinear'), n_features_to_select=15)\r\n",
    "# define the model\r\n",
    "model = LogisticRegression(solver='liblinear')\r\n",
    "# define the pipeline\r\n",
    "steps = list()\r\n",
    "steps.append(('fu', fu))\r\n",
    "steps.append(('rfe', rfe))\r\n",
    "steps.append(('m', model))\r\n",
    "pipeline = Pipeline(steps=steps)\r\n",
    "# define the cross-validation procedure\r\n",
    "cv = RepeatedStratifiedKFold(n_splits=10, n_repeats=3, random_state=1)\r\n",
    "# evaluate model\r\n",
    "scores = cross_val_score(pipeline, X, y, scoring='accuracy', cv=cv, n_jobs=-1)\r\n",
    "# report performance\r\n",
    "print('Accuracy: %.3f (%.3f)' % (mean(scores), std(scores)))"
   ],
   "outputs": [
    {
     "output_type": "stream",
     "name": "stdout",
     "text": [
      "Accuracy: 0.989 (0.022)\n"
     ]
    }
   ],
   "metadata": {}
  },
  {
   "cell_type": "markdown",
   "source": [
    "### Comentarios\r\n",
    "\r\n",
    "Creo que sería de gran valor explicar el funcionamiento de las transformaciones que se están utilizando en el último ejemplo, para poder así identificar la utilidad de estas y cuándo deberíamos aplicarlas. Aparte de eso, creo que queda bastante claro el tema, sobre todo teniendo en cuenta que el primer tutorial explicó claramente el proceso que se iba a tomar."
   ],
   "metadata": {}
  }
 ],
 "metadata": {
  "kernelspec": {
   "display_name": "Python 3",
   "language": "python",
   "name": "python3"
  },
  "language_info": {
   "codemirror_mode": {
    "name": "ipython",
    "version": 3
   },
   "file_extension": ".py",
   "mimetype": "text/x-python",
   "name": "python",
   "nbconvert_exporter": "python",
   "pygments_lexer": "ipython3",
   "version": "3.8.8"
  }
 },
 "nbformat": 4,
 "nbformat_minor": 5
}