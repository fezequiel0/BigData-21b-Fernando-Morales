{
 "cells": [
  {
   "cell_type": "markdown",
   "source": [
    "## How to Choose a Feature Selection Method For Machine Learning\r\n",
    "\r\n",
    "### Feature Selection\r\n",
    "\r\n",
    "La selección de *features* es aquel proceso utlizado para reducir la cantidad de variables de entrada a la hora de crear un modelo predictivo. Existen varios tipos de procesos de selección de variables, los cuales pueden ser divididos por:\r\n",
    "\r\n",
    "1. Énfasis en la variable de respuesta:\r\n",
    "    - Los métodos **supervisados** son aquellos que se enfocan en encontrar las variables de cierto modelo que más influyan o estén más relacionadas con la variable de respuesta.\r\n",
    "    - Los métodos **no supervisados** son aquellos que no necesariamente se enfoncan en encontrar las variables ideales, sino que más bien se enfocan en encontrar variables variables redundantes entre sí.\r\n",
    "2. Método de escogencia de las variables:\r\n",
    "   - Los métodos **envolventes**(*wrapper*) son aquellos que agrupan diferentes variables, sin importar su tipo, y crean modelos para así evaluar cada uno de estos grupos de variables y elegir el mejor grupo.\r\n",
    "   - Los métodos de tipo **filtro**(*filters*) se encargan de evaular la relación entre cada una de las variables y la variable resultante, para poder así determinar cuáles son las variables que serán utilizadas en el modelo.\r\n",
    "3. Intrínsecos: \r\n",
    "   - Los métodos **intrínsecos** son aquellos que forman parte del modelo en sí automáticamente durante la etapa de entrenamiento del mismo.   \r\n",
    "\r\n",
    "Para evaluar estos métodos, existen mediciones estadísticas que miden el tipo de correlación entre las variables de entrada y la variable de respuesta. Estos tipos de mediciones se dividen por el tipo de la variable de entrada y de salida:\r\n",
    "\r\n",
    "1. Variable de entrada numérica y variable de salida numérica: **Pearson's** y **Spearman's**\r\n",
    "2. Variable de entrada categórica y variable de salida numérica: **ANOVA** y **Kendall's**\r\n",
    "3. Variable de entrada numérica y variable de salida categórica: **ANOVA** y **Kendall's**\r\n",
    "4. Variable de entrada categórica y variable de salida categórica: **Chi-squared** y **Mutual Information**\r\n",
    "\r\n",
    "Este paso, para mi desarrollo profesional, sería sumamente importante, ya que poder reducir la dimensionalidad de cierto modelo y hacerlo más efectivo es de extremada importancia para cualquier empresa. Si se puede lograr un mejor rendimiento del modelo en cuestión, puede terminar siendo pivotal para el crecimiento de la empresa y del negocio en sí. Incluso, no necesariamente tiene que limitarse para el uso de modelos de aprendizaje automático, sino que incluso pueden ser utilizados para experimentos o análisis del rendimiento de algún sistema, entre otros. Por ejemplo, identificar cuál parte de un programa afecta más considerablemente su tiempo de ejecución.\r\n",
    "\r\n",
    "### Aspectos a profundizar \r\n",
    "\r\n",
    "Todo queda bastante claro, ya que hemos usado algunas de estas técnicas para el desarrollo de algunos experimentos previamente, sobre todo en el curso de **Diseño de Experimentos**. Lo que sí sería útil sería ver modelos de tipo intrínsecos, ya que podría ser de gran valor poder identificar este tipo de modelos y aprovecharlos.\r\n"
   ],
   "metadata": {}
  }
 ],
 "metadata": {
  "kernelspec": {
   "display_name": "Python 3",
   "language": "python",
   "name": "python3"
  },
  "language_info": {
   "codemirror_mode": {
    "name": "ipython",
    "version": 3
   },
   "file_extension": ".py",
   "mimetype": "text/x-python",
   "name": "python",
   "nbconvert_exporter": "python",
   "pygments_lexer": "ipython3",
   "version": "3.8.8"
  }
 },
 "nbformat": 4,
 "nbformat_minor": 5
}