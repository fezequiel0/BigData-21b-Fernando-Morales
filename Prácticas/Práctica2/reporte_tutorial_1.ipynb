{
 "cells": [
  {
   "cell_type": "markdown",
   "id": "1b35eaab",
   "metadata": {},
   "source": [
    "## Framework for Data Preparation Techniques in Machine Learning"
   ]
  },
  {
   "cell_type": "markdown",
   "id": "34ea1459",
   "metadata": {},
   "source": [
    "### Preparación de datos\n",
    "Lo más importante que hay que destacar de lo aprendido es que, a la hora de preparar los *datasets* para la función deseada es que se tiene que pensar de cómo preparar los datos a diferentes niveles de abstracción. Por ejemplo, el tutorial menciona que los datos, sobre todo los que tienen una estructura o están tabulados, pueden pensarse en sus dimensiones: \n",
    "\n",
    "- Filas\n",
    "- Columnas\n",
    "- Valores\n",
    "- Combinación entre valores y filas\n",
    "- Combinación entre valores y columnas\n",
    "\n",
    "El tutorial continua nombrando las importancias, las características y ciertos ejemplos para cada una de estas dimensiones. Sobre todo para las primeras dos formas de preparar los datos (filas y columnas), únicamente se habla en términos de agregar o disminuir la cantidad de filas y columnas. En el caso de las filas, ya que son instancias o muestras de todos los datos en sí, pueden ser eliminadas las filas que contengan errores o duplicados, entre otros. En el caso de las columnas, se habla más en función de la complejidad que agrega o resta la adición o eliminación de ciertas columnas para el modelo, entonces existen varias técnicas de selección de columnas existentes, como la de *Recursive Feature Elimination* (RFE), entre otros.\n",
    "\n",
    "Por otro lado, las técnicas aplicadas para los valores son relativamente distintas, ya que estas alteran directamente los datos que se tienen en el *dataset*. En estas se consideran sobre todo técnicas de estandarización de valores y de normalización, donde se intenta que toda la información del *dataset* cumpla con ciertos requerimientos para que el modelo funcione óptimamente. \n",
    "\n",
    "Finalmente, los últimos dos ejemplos que se mencionan, son combinaciones entre los valores y sean las columnas o las filas del *dataset*, donde se tiene más en cuenta los valores que tienen las diferentes celdas del *dataset*.\n",
    "\n",
    "Esta información para el trabajo como profesional es extremadamente importante, ya que permitiría diferentes formas de preparar un set de datos para la aplicación o el modelo que sea. A pesar de esto, estas técnicas no son necesariamente exclusivas para el área de aprendizaje mecánico, ya que en el caso de que trabaje profesionalmente generando reportes o siendo analista en donde se maneje gran cantidad de datos, estas técnicas me darían un manejo definitivamente mejor y más amplio de los datos y de lo que quiero lograr con estos.\n",
    "### Aspectos a profundizar \n",
    "Sería ideal ver ejemplos de estas técnicas siendo puestas en práctica, sobre todo a la hora de escoger cuál de estas técnicas serían ideales para ser utilizadas en un determinado set de datos, ya que nos permitiría y nos daría experiencia a la hora de tomar decisiones de cuál de las técnicas aplicar en cualquier momento."
   ]
  }
 ],
 "metadata": {
  "kernelspec": {
   "display_name": "Python 3",
   "language": "python",
   "name": "python3"
  },
  "language_info": {
   "codemirror_mode": {
    "name": "ipython",
    "version": 3
   },
   "file_extension": ".py",
   "mimetype": "text/x-python",
   "name": "python",
   "nbconvert_exporter": "python",
   "pygments_lexer": "ipython3",
   "version": "3.8.8"
  }
 },
 "nbformat": 4,
 "nbformat_minor": 5
}
